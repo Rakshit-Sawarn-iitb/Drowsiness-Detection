{
  "metadata": {
    "kernelspec": {
      "display_name": "Python 3",
      "name": "python3"
    },
    "language_info": {
      "name": "python",
      "version": "3.10.13",
      "mimetype": "text/x-python",
      "codemirror_mode": {
        "name": "ipython",
        "version": 3
      },
      "pygments_lexer": "ipython3",
      "nbconvert_exporter": "python",
      "file_extension": ".py"
    },
    "kaggle": {
      "accelerator": "none",
      "dataSources": [
        {
          "sourceId": 5206203,
          "sourceType": "datasetVersion",
          "datasetId": 3027905
        }
      ],
      "dockerImageVersionId": 30746,
      "isInternetEnabled": true,
      "language": "python",
      "sourceType": "notebook",
      "isGpuEnabled": false
    },
    "colab": {
      "provenance": [],
      "gpuType": "T4",
      "include_colab_link": true
    },
    "accelerator": "GPU"
  },
  "nbformat_minor": 0,
  "nbformat": 4,
  "cells": [
    {
      "cell_type": "markdown",
      "metadata": {
        "id": "view-in-github",
        "colab_type": "text"
      },
      "source": [
        "<a href=\"https://colab.research.google.com/github/Rakshit-Sawarn-iitb/Drowsiness-Detection/blob/main/DrowsinessDetectionWithMetrics.ipynb\" target=\"_parent\"><img src=\"https://colab.research.google.com/assets/colab-badge.svg\" alt=\"Open In Colab\"/></a>"
      ]
    },
    {
      "cell_type": "markdown",
      "source": [
        "# **KAGGLE API LOADING**"
      ],
      "metadata": {
        "id": "SQpHKIpq7kve"
      }
    },
    {
      "source": [
        "\n",
        "# IMPORTANT: RUN THIS CELL IN ORDER TO IMPORT YOUR KAGGLE DATA SOURCES\n",
        "# TO THE CORRECT LOCATION (/kaggle/input) IN YOUR NOTEBOOK,\n",
        "# THEN FEEL FREE TO DELETE THIS CELL.\n",
        "# NOTE: THIS NOTEBOOK ENVIRONMENT DIFFERS FROM KAGGLE'S PYTHON\n",
        "# ENVIRONMENT SO THERE MAY BE MISSING LIBRARIES USED BY YOUR\n",
        "# NOTEBOOK.\n",
        "\n",
        "import os\n",
        "import sys\n",
        "from tempfile import NamedTemporaryFile\n",
        "from urllib.request import urlopen\n",
        "from urllib.parse import unquote, urlparse\n",
        "from urllib.error import HTTPError\n",
        "from zipfile import ZipFile\n",
        "import tarfile\n",
        "import shutil\n",
        "\n",
        "CHUNK_SIZE = 40960\n",
        "DATA_SOURCE_MAPPING = 'mrl-eye-dataset:https%3A%2F%2Fstorage.googleapis.com%2Fkaggle-data-sets%2F3027905%2F5206203%2Fbundle%2Farchive.zip%3FX-Goog-Algorithm%3DGOOG4-RSA-SHA256%26X-Goog-Credential%3Dgcp-kaggle-com%2540kaggle-161607.iam.gserviceaccount.com%252F20240727%252Fauto%252Fstorage%252Fgoog4_request%26X-Goog-Date%3D20240727T160203Z%26X-Goog-Expires%3D259200%26X-Goog-SignedHeaders%3Dhost%26X-Goog-Signature%3Da993fb77c3d4695210b9715f6aa2e6adee64ad6ebdb5af1fee8732a608b1c4313f2f30330ae5570282f166b1866cdc6e7d4994ae5306f456331d3b017a6a9f2d687bcb8cd05a991d03209905236176a65bbb62fbe7b34eb6ed85051c5c70d16f0e744f69a2371ca9f92e8b4714149e733bdcd7c8d9e6d3056f68228ec67d73532ac6caa91131ec7a0806283c14d6ce6f45a368b0f4cf65427b174d12dd9d0467953c451461fa5d66bb3fff24fdffd40e0e2941a40717512121ac6ad95a139ccb82ffc1e610a95a4b15a4aaf314a43f17b0c0d6d044f63b5506cf8e123715604880778f2513a7830337481b30ed15921d83ad7a4a616dd4a97d9904924d9e85b5,drowsy-model/pytorch/drowsy-model/1:https%3A%2F%2Fstorage.googleapis.com%2Fkaggle-models-data%2F65850%2F78348%2Fbundle%2Farchive.tar.gz%3FX-Goog-Algorithm%3DGOOG4-RSA-SHA256%26X-Goog-Credential%3Dgcp-kaggle-com%2540kaggle-161607.iam.gserviceaccount.com%252F20240727%252Fauto%252Fstorage%252Fgoog4_request%26X-Goog-Date%3D20240727T160203Z%26X-Goog-Expires%3D259200%26X-Goog-SignedHeaders%3Dhost%26X-Goog-Signature%3D63f2a308e23e57ddfd8a4105fb27e73dc8d9ead6ab9b848aef8d390c7efc8de844c36231a006b5d8911794af44c05f6bc40c22f7cbb20a897c26a50a4bc2841e6cf0fcc6d765eb65e31fdb363573ae696ec61fba9b1c3ad70165fedf63fddc2921956a62ba56aa90a5b1dc04f46824bc59af9e846039038bfd3b18724b9b1f989cea88ef882cb053246866e0270ec30c53821e2e7041ef33c761df910a655edfc8c9f239071b9cfb059f65422eca6d58298a22ff74f008b1234f939e021ebd15084e32647c889aec810b9b479bb3d4cf53698f05047d4444697b8d06e33dcd4ce45ad6a371da31f114e55556d72bca140e30de4b1f4461b6598f4920e09ddd16'\n",
        "\n",
        "KAGGLE_INPUT_PATH='/kaggle/input'\n",
        "KAGGLE_WORKING_PATH='/kaggle/working'\n",
        "KAGGLE_SYMLINK='kaggle'\n",
        "\n",
        "!umount /kaggle/input/ 2> /dev/null\n",
        "shutil.rmtree('/kaggle/input', ignore_errors=True)\n",
        "os.makedirs(KAGGLE_INPUT_PATH, 0o777, exist_ok=True)\n",
        "os.makedirs(KAGGLE_WORKING_PATH, 0o777, exist_ok=True)\n",
        "\n",
        "try:\n",
        "  os.symlink(KAGGLE_INPUT_PATH, os.path.join(\"..\", 'input'), target_is_directory=True)\n",
        "except FileExistsError:\n",
        "  pass\n",
        "try:\n",
        "  os.symlink(KAGGLE_WORKING_PATH, os.path.join(\"..\", 'working'), target_is_directory=True)\n",
        "except FileExistsError:\n",
        "  pass\n",
        "\n",
        "for data_source_mapping in DATA_SOURCE_MAPPING.split(','):\n",
        "    directory, download_url_encoded = data_source_mapping.split(':')\n",
        "    download_url = unquote(download_url_encoded)\n",
        "    filename = urlparse(download_url).path\n",
        "    destination_path = os.path.join(KAGGLE_INPUT_PATH, directory)\n",
        "    try:\n",
        "        with urlopen(download_url) as fileres, NamedTemporaryFile() as tfile:\n",
        "            total_length = fileres.headers['content-length']\n",
        "            print(f'Downloading {directory}, {total_length} bytes compressed')\n",
        "            dl = 0\n",
        "            data = fileres.read(CHUNK_SIZE)\n",
        "            while len(data) > 0:\n",
        "                dl += len(data)\n",
        "                tfile.write(data)\n",
        "                done = int(50 * dl / int(total_length))\n",
        "                sys.stdout.write(f\"\\r[{'=' * done}{' ' * (50-done)}] {dl} bytes downloaded\")\n",
        "                sys.stdout.flush()\n",
        "                data = fileres.read(CHUNK_SIZE)\n",
        "            if filename.endswith('.zip'):\n",
        "              with ZipFile(tfile) as zfile:\n",
        "                zfile.extractall(destination_path)\n",
        "            else:\n",
        "              with tarfile.open(tfile.name) as tarfile:\n",
        "                tarfile.extractall(destination_path)\n",
        "            print(f'\\nDownloaded and uncompressed: {directory}')\n",
        "    except HTTPError as e:\n",
        "        print(f'Failed to load (likely expired) {download_url} to path {destination_path}')\n",
        "        continue\n",
        "    except OSError as e:\n",
        "        print(f'Failed to load {download_url} to path {destination_path}')\n",
        "        continue\n",
        "\n",
        "print('Data source import complete.')\n"
      ],
      "metadata": {
        "id": "p0VxOsOr7YoU",
        "colab": {
          "base_uri": "https://localhost:8080/"
        },
        "outputId": "194b7b7b-3117-4978-f8e0-967bc38dc8b1"
      },
      "cell_type": "code",
      "outputs": [
        {
          "output_type": "stream",
          "name": "stdout",
          "text": [
            "Downloading mrl-eye-dataset, 346112303 bytes compressed\n",
            "[==================================================] 346112303 bytes downloaded\n",
            "Downloaded and uncompressed: mrl-eye-dataset\n",
            "Downloading drowsy-model/pytorch/drowsy-model/1, 77647048 bytes compressed\n",
            "[==================================================] 77647048 bytes downloaded\n",
            "Downloaded and uncompressed: drowsy-model/pytorch/drowsy-model/1\n",
            "Data source import complete.\n"
          ]
        }
      ],
      "execution_count": 1
    },
    {
      "cell_type": "markdown",
      "source": [
        "# **IMPORTS**"
      ],
      "metadata": {
        "id": "PA7f0YHkQq6g"
      }
    },
    {
      "cell_type": "code",
      "source": [
        "import numpy as np\n",
        "import matplotlib.pyplot as plt\n",
        "import os\n",
        "import cv2 as cv"
      ],
      "metadata": {
        "execution": {
          "iopub.status.busy": "2024-07-17T04:41:51.971878Z",
          "iopub.execute_input": "2024-07-17T04:41:51.972348Z",
          "iopub.status.idle": "2024-07-17T04:41:51.983149Z",
          "shell.execute_reply.started": "2024-07-17T04:41:51.972312Z",
          "shell.execute_reply": "2024-07-17T04:41:51.977208Z"
        },
        "trusted": true,
        "id": "1ct2eX29Qq6i"
      },
      "execution_count": 2,
      "outputs": []
    },
    {
      "cell_type": "code",
      "source": [
        "import pandas as pd"
      ],
      "metadata": {
        "execution": {
          "iopub.status.busy": "2024-07-17T04:53:06.290042Z",
          "iopub.execute_input": "2024-07-17T04:53:06.290543Z",
          "iopub.status.idle": "2024-07-17T04:53:06.727764Z",
          "shell.execute_reply.started": "2024-07-17T04:53:06.290507Z",
          "shell.execute_reply": "2024-07-17T04:53:06.726585Z"
        },
        "trusted": true,
        "id": "ByYz78RYQq6j"
      },
      "execution_count": 3,
      "outputs": []
    },
    {
      "cell_type": "code",
      "source": [
        "from sklearn.model_selection import train_test_split"
      ],
      "metadata": {
        "execution": {
          "iopub.status.busy": "2024-07-17T05:29:33.930712Z",
          "iopub.execute_input": "2024-07-17T05:29:33.931181Z",
          "iopub.status.idle": "2024-07-17T05:29:34.686277Z",
          "shell.execute_reply.started": "2024-07-17T05:29:33.931145Z",
          "shell.execute_reply": "2024-07-17T05:29:34.684717Z"
        },
        "trusted": true,
        "id": "kAGQH-HYQq6k"
      },
      "execution_count": 4,
      "outputs": []
    },
    {
      "cell_type": "code",
      "source": [
        "import torch.utils.data as utils"
      ],
      "metadata": {
        "execution": {
          "iopub.status.busy": "2024-07-17T05:30:32.12816Z",
          "iopub.execute_input": "2024-07-17T05:30:32.128681Z",
          "iopub.status.idle": "2024-07-17T05:30:32.136416Z",
          "shell.execute_reply.started": "2024-07-17T05:30:32.128637Z",
          "shell.execute_reply": "2024-07-17T05:30:32.13499Z"
        },
        "trusted": true,
        "id": "Dnlwb-tsQq6k"
      },
      "execution_count": 5,
      "outputs": []
    },
    {
      "cell_type": "code",
      "source": [
        "import random"
      ],
      "metadata": {
        "execution": {
          "iopub.status.busy": "2024-07-17T04:58:17.419421Z",
          "iopub.execute_input": "2024-07-17T04:58:17.420619Z",
          "iopub.status.idle": "2024-07-17T04:58:17.428301Z",
          "shell.execute_reply.started": "2024-07-17T04:58:17.42053Z",
          "shell.execute_reply": "2024-07-17T04:58:17.426143Z"
        },
        "trusted": true,
        "id": "6i2YyKLhQq6l"
      },
      "execution_count": 6,
      "outputs": []
    },
    {
      "cell_type": "code",
      "source": [
        "import torch\n",
        "import torch.nn as nn\n",
        "import torch.optim as optim"
      ],
      "metadata": {
        "execution": {
          "iopub.status.busy": "2024-07-17T04:41:54.35177Z",
          "iopub.execute_input": "2024-07-17T04:41:54.352282Z",
          "iopub.status.idle": "2024-07-17T04:41:58.067272Z",
          "shell.execute_reply.started": "2024-07-17T04:41:54.352238Z",
          "shell.execute_reply": "2024-07-17T04:41:58.065797Z"
        },
        "trusted": true,
        "id": "udUEUkyfQq6l"
      },
      "execution_count": 7,
      "outputs": []
    },
    {
      "cell_type": "code",
      "source": [
        "from torch.utils.data import Dataset, DataLoader\n",
        "import torchvision.transforms as transforms"
      ],
      "metadata": {
        "execution": {
          "iopub.status.busy": "2024-07-17T04:41:59.111092Z",
          "iopub.execute_input": "2024-07-17T04:41:59.111708Z",
          "iopub.status.idle": "2024-07-17T04:42:01.306488Z",
          "shell.execute_reply.started": "2024-07-17T04:41:59.11167Z",
          "shell.execute_reply": "2024-07-17T04:42:01.305194Z"
        },
        "trusted": true,
        "id": "_QxLJOWiQq6l"
      },
      "execution_count": 8,
      "outputs": []
    },
    {
      "cell_type": "code",
      "source": [
        "from PIL import Image"
      ],
      "metadata": {
        "execution": {
          "iopub.status.busy": "2024-07-17T04:42:02.07236Z",
          "iopub.execute_input": "2024-07-17T04:42:02.073401Z",
          "iopub.status.idle": "2024-07-17T04:42:02.07909Z",
          "shell.execute_reply.started": "2024-07-17T04:42:02.073355Z",
          "shell.execute_reply": "2024-07-17T04:42:02.077847Z"
        },
        "trusted": true,
        "id": "l9PzGjcJQq6m"
      },
      "execution_count": 9,
      "outputs": []
    },
    {
      "cell_type": "code",
      "source": [
        "!pip install timm"
      ],
      "metadata": {
        "colab": {
          "base_uri": "https://localhost:8080/"
        },
        "id": "78KmgpgIRo9c",
        "outputId": "ae1577e5-2455-446a-9965-2e75800ac6db"
      },
      "execution_count": 10,
      "outputs": [
        {
          "output_type": "stream",
          "name": "stdout",
          "text": [
            "Collecting timm\n",
            "  Downloading timm-1.0.7-py3-none-any.whl.metadata (47 kB)\n",
            "\u001b[?25l     \u001b[90m━━━━━━━━━━━━━━━━━━━━━━━━━━━━━━━━━━━━━━━━\u001b[0m \u001b[32m0.0/47.5 kB\u001b[0m \u001b[31m?\u001b[0m eta \u001b[36m-:--:--\u001b[0m\r\u001b[2K     \u001b[90m━━━━━━━━━━━━━━━━━━━━━━━━━━━━━━━━━━━━━━━━\u001b[0m \u001b[32m47.5/47.5 kB\u001b[0m \u001b[31m3.3 MB/s\u001b[0m eta \u001b[36m0:00:00\u001b[0m\n",
            "\u001b[?25hRequirement already satisfied: torch in /usr/local/lib/python3.10/dist-packages (from timm) (2.3.1+cu121)\n",
            "Requirement already satisfied: torchvision in /usr/local/lib/python3.10/dist-packages (from timm) (0.18.1+cu121)\n",
            "Requirement already satisfied: pyyaml in /usr/local/lib/python3.10/dist-packages (from timm) (6.0.1)\n",
            "Requirement already satisfied: huggingface_hub in /usr/local/lib/python3.10/dist-packages (from timm) (0.23.5)\n",
            "Requirement already satisfied: safetensors in /usr/local/lib/python3.10/dist-packages (from timm) (0.4.3)\n",
            "Requirement already satisfied: filelock in /usr/local/lib/python3.10/dist-packages (from huggingface_hub->timm) (3.15.4)\n",
            "Requirement already satisfied: fsspec>=2023.5.0 in /usr/local/lib/python3.10/dist-packages (from huggingface_hub->timm) (2024.6.1)\n",
            "Requirement already satisfied: packaging>=20.9 in /usr/local/lib/python3.10/dist-packages (from huggingface_hub->timm) (24.1)\n",
            "Requirement already satisfied: requests in /usr/local/lib/python3.10/dist-packages (from huggingface_hub->timm) (2.31.0)\n",
            "Requirement already satisfied: tqdm>=4.42.1 in /usr/local/lib/python3.10/dist-packages (from huggingface_hub->timm) (4.66.4)\n",
            "Requirement already satisfied: typing-extensions>=3.7.4.3 in /usr/local/lib/python3.10/dist-packages (from huggingface_hub->timm) (4.12.2)\n",
            "Requirement already satisfied: sympy in /usr/local/lib/python3.10/dist-packages (from torch->timm) (1.13.1)\n",
            "Requirement already satisfied: networkx in /usr/local/lib/python3.10/dist-packages (from torch->timm) (3.3)\n",
            "Requirement already satisfied: jinja2 in /usr/local/lib/python3.10/dist-packages (from torch->timm) (3.1.4)\n",
            "Collecting nvidia-cuda-nvrtc-cu12==12.1.105 (from torch->timm)\n",
            "  Using cached nvidia_cuda_nvrtc_cu12-12.1.105-py3-none-manylinux1_x86_64.whl.metadata (1.5 kB)\n",
            "Collecting nvidia-cuda-runtime-cu12==12.1.105 (from torch->timm)\n",
            "  Using cached nvidia_cuda_runtime_cu12-12.1.105-py3-none-manylinux1_x86_64.whl.metadata (1.5 kB)\n",
            "Collecting nvidia-cuda-cupti-cu12==12.1.105 (from torch->timm)\n",
            "  Using cached nvidia_cuda_cupti_cu12-12.1.105-py3-none-manylinux1_x86_64.whl.metadata (1.6 kB)\n",
            "Collecting nvidia-cudnn-cu12==8.9.2.26 (from torch->timm)\n",
            "  Using cached nvidia_cudnn_cu12-8.9.2.26-py3-none-manylinux1_x86_64.whl.metadata (1.6 kB)\n",
            "Collecting nvidia-cublas-cu12==12.1.3.1 (from torch->timm)\n",
            "  Using cached nvidia_cublas_cu12-12.1.3.1-py3-none-manylinux1_x86_64.whl.metadata (1.5 kB)\n",
            "Collecting nvidia-cufft-cu12==11.0.2.54 (from torch->timm)\n",
            "  Using cached nvidia_cufft_cu12-11.0.2.54-py3-none-manylinux1_x86_64.whl.metadata (1.5 kB)\n",
            "Collecting nvidia-curand-cu12==10.3.2.106 (from torch->timm)\n",
            "  Using cached nvidia_curand_cu12-10.3.2.106-py3-none-manylinux1_x86_64.whl.metadata (1.5 kB)\n",
            "Collecting nvidia-cusolver-cu12==11.4.5.107 (from torch->timm)\n",
            "  Using cached nvidia_cusolver_cu12-11.4.5.107-py3-none-manylinux1_x86_64.whl.metadata (1.6 kB)\n",
            "Collecting nvidia-cusparse-cu12==12.1.0.106 (from torch->timm)\n",
            "  Using cached nvidia_cusparse_cu12-12.1.0.106-py3-none-manylinux1_x86_64.whl.metadata (1.6 kB)\n",
            "Collecting nvidia-nccl-cu12==2.20.5 (from torch->timm)\n",
            "  Using cached nvidia_nccl_cu12-2.20.5-py3-none-manylinux2014_x86_64.whl.metadata (1.8 kB)\n",
            "Collecting nvidia-nvtx-cu12==12.1.105 (from torch->timm)\n",
            "  Using cached nvidia_nvtx_cu12-12.1.105-py3-none-manylinux1_x86_64.whl.metadata (1.7 kB)\n",
            "Requirement already satisfied: triton==2.3.1 in /usr/local/lib/python3.10/dist-packages (from torch->timm) (2.3.1)\n",
            "Collecting nvidia-nvjitlink-cu12 (from nvidia-cusolver-cu12==11.4.5.107->torch->timm)\n",
            "  Downloading nvidia_nvjitlink_cu12-12.5.82-py3-none-manylinux2014_x86_64.whl.metadata (1.5 kB)\n",
            "Requirement already satisfied: numpy in /usr/local/lib/python3.10/dist-packages (from torchvision->timm) (1.25.2)\n",
            "Requirement already satisfied: pillow!=8.3.*,>=5.3.0 in /usr/local/lib/python3.10/dist-packages (from torchvision->timm) (9.4.0)\n",
            "Requirement already satisfied: MarkupSafe>=2.0 in /usr/local/lib/python3.10/dist-packages (from jinja2->torch->timm) (2.1.5)\n",
            "Requirement already satisfied: charset-normalizer<4,>=2 in /usr/local/lib/python3.10/dist-packages (from requests->huggingface_hub->timm) (3.3.2)\n",
            "Requirement already satisfied: idna<4,>=2.5 in /usr/local/lib/python3.10/dist-packages (from requests->huggingface_hub->timm) (3.7)\n",
            "Requirement already satisfied: urllib3<3,>=1.21.1 in /usr/local/lib/python3.10/dist-packages (from requests->huggingface_hub->timm) (2.0.7)\n",
            "Requirement already satisfied: certifi>=2017.4.17 in /usr/local/lib/python3.10/dist-packages (from requests->huggingface_hub->timm) (2024.7.4)\n",
            "Requirement already satisfied: mpmath<1.4,>=1.1.0 in /usr/local/lib/python3.10/dist-packages (from sympy->torch->timm) (1.3.0)\n",
            "Downloading timm-1.0.7-py3-none-any.whl (2.3 MB)\n",
            "\u001b[2K   \u001b[90m━━━━━━━━━━━━━━━━━━━━━━━━━━━━━━━━━━━━━━━━\u001b[0m \u001b[32m2.3/2.3 MB\u001b[0m \u001b[31m26.5 MB/s\u001b[0m eta \u001b[36m0:00:00\u001b[0m\n",
            "\u001b[?25hUsing cached nvidia_cublas_cu12-12.1.3.1-py3-none-manylinux1_x86_64.whl (410.6 MB)\n",
            "Using cached nvidia_cuda_cupti_cu12-12.1.105-py3-none-manylinux1_x86_64.whl (14.1 MB)\n",
            "Using cached nvidia_cuda_nvrtc_cu12-12.1.105-py3-none-manylinux1_x86_64.whl (23.7 MB)\n",
            "Using cached nvidia_cuda_runtime_cu12-12.1.105-py3-none-manylinux1_x86_64.whl (823 kB)\n",
            "Using cached nvidia_cudnn_cu12-8.9.2.26-py3-none-manylinux1_x86_64.whl (731.7 MB)\n",
            "Using cached nvidia_cufft_cu12-11.0.2.54-py3-none-manylinux1_x86_64.whl (121.6 MB)\n",
            "Using cached nvidia_curand_cu12-10.3.2.106-py3-none-manylinux1_x86_64.whl (56.5 MB)\n",
            "Using cached nvidia_cusolver_cu12-11.4.5.107-py3-none-manylinux1_x86_64.whl (124.2 MB)\n",
            "Using cached nvidia_cusparse_cu12-12.1.0.106-py3-none-manylinux1_x86_64.whl (196.0 MB)\n",
            "Using cached nvidia_nccl_cu12-2.20.5-py3-none-manylinux2014_x86_64.whl (176.2 MB)\n",
            "Using cached nvidia_nvtx_cu12-12.1.105-py3-none-manylinux1_x86_64.whl (99 kB)\n",
            "Downloading nvidia_nvjitlink_cu12-12.5.82-py3-none-manylinux2014_x86_64.whl (21.3 MB)\n",
            "\u001b[2K   \u001b[90m━━━━━━━━━━━━━━━━━━━━━━━━━━━━━━━━━━━━━━━━\u001b[0m \u001b[32m21.3/21.3 MB\u001b[0m \u001b[31m10.5 MB/s\u001b[0m eta \u001b[36m0:00:00\u001b[0m\n",
            "\u001b[?25hInstalling collected packages: nvidia-nvtx-cu12, nvidia-nvjitlink-cu12, nvidia-nccl-cu12, nvidia-curand-cu12, nvidia-cufft-cu12, nvidia-cuda-runtime-cu12, nvidia-cuda-nvrtc-cu12, nvidia-cuda-cupti-cu12, nvidia-cublas-cu12, nvidia-cusparse-cu12, nvidia-cudnn-cu12, nvidia-cusolver-cu12, timm\n",
            "Successfully installed nvidia-cublas-cu12-12.1.3.1 nvidia-cuda-cupti-cu12-12.1.105 nvidia-cuda-nvrtc-cu12-12.1.105 nvidia-cuda-runtime-cu12-12.1.105 nvidia-cudnn-cu12-8.9.2.26 nvidia-cufft-cu12-11.0.2.54 nvidia-curand-cu12-10.3.2.106 nvidia-cusolver-cu12-11.4.5.107 nvidia-cusparse-cu12-12.1.0.106 nvidia-nccl-cu12-2.20.5 nvidia-nvjitlink-cu12-12.5.82 nvidia-nvtx-cu12-12.1.105 timm-1.0.7\n"
          ]
        }
      ]
    },
    {
      "cell_type": "code",
      "source": [
        "import timm"
      ],
      "metadata": {
        "execution": {
          "iopub.status.busy": "2024-07-17T04:42:04.132373Z",
          "iopub.execute_input": "2024-07-17T04:42:04.132893Z",
          "iopub.status.idle": "2024-07-17T04:42:05.693488Z",
          "shell.execute_reply.started": "2024-07-17T04:42:04.13285Z",
          "shell.execute_reply": "2024-07-17T04:42:05.69224Z"
        },
        "trusted": true,
        "id": "TEPqTVEQQq6n"
      },
      "execution_count": 11,
      "outputs": []
    },
    {
      "cell_type": "code",
      "source": [
        "import gc"
      ],
      "metadata": {
        "execution": {
          "iopub.status.busy": "2024-07-17T04:42:11.561024Z",
          "iopub.execute_input": "2024-07-17T04:42:11.561535Z",
          "iopub.status.idle": "2024-07-17T04:42:11.569939Z",
          "shell.execute_reply.started": "2024-07-17T04:42:11.561494Z",
          "shell.execute_reply": "2024-07-17T04:42:11.568417Z"
        },
        "trusted": true,
        "id": "afXR6DC-Qq6n"
      },
      "execution_count": 12,
      "outputs": []
    },
    {
      "cell_type": "markdown",
      "source": [
        "# **DATASET LOADING**"
      ],
      "metadata": {
        "id": "_FaYsGyIQq6n"
      }
    },
    {
      "cell_type": "code",
      "source": [
        "close_dir = \"/kaggle/input/mrl-eye-dataset/mrleyedataset/Close-Eyes\"\n",
        "open_dir = \"/kaggle/input/mrl-eye-dataset/mrleyedataset/Open-Eyes\""
      ],
      "metadata": {
        "execution": {
          "iopub.status.busy": "2024-07-17T04:43:04.520699Z",
          "iopub.execute_input": "2024-07-17T04:43:04.521286Z",
          "iopub.status.idle": "2024-07-17T04:43:04.527545Z",
          "shell.execute_reply.started": "2024-07-17T04:43:04.521239Z",
          "shell.execute_reply": "2024-07-17T04:43:04.52605Z"
        },
        "trusted": true,
        "id": "bpAxi9TwQq6o"
      },
      "execution_count": 13,
      "outputs": []
    },
    {
      "cell_type": "code",
      "source": [
        "close_paths = []\n",
        "open_paths = []"
      ],
      "metadata": {
        "execution": {
          "iopub.status.busy": "2024-07-17T04:44:52.755147Z",
          "iopub.execute_input": "2024-07-17T04:44:52.756347Z",
          "iopub.status.idle": "2024-07-17T04:44:52.761798Z",
          "shell.execute_reply.started": "2024-07-17T04:44:52.756298Z",
          "shell.execute_reply": "2024-07-17T04:44:52.760463Z"
        },
        "trusted": true,
        "id": "5BhD9oKoQq6o"
      },
      "execution_count": 14,
      "outputs": []
    },
    {
      "cell_type": "code",
      "source": [
        "for dirname, _, filenames in os.walk(open_dir):\n",
        "        for filename in filenames:\n",
        "            open_paths.append(os.path.join(dirname, filename))"
      ],
      "metadata": {
        "execution": {
          "iopub.status.busy": "2024-07-17T04:45:59.66042Z",
          "iopub.execute_input": "2024-07-17T04:45:59.661715Z",
          "iopub.status.idle": "2024-07-17T04:46:25.130985Z",
          "shell.execute_reply.started": "2024-07-17T04:45:59.661637Z",
          "shell.execute_reply": "2024-07-17T04:46:25.129847Z"
        },
        "trusted": true,
        "id": "MNsJR7jkQq6o"
      },
      "execution_count": 15,
      "outputs": []
    },
    {
      "cell_type": "code",
      "source": [
        "for dirname, _, filenames in os.walk(close_dir):\n",
        "        for filename in filenames:\n",
        "            close_paths.append(os.path.join(dirname, filename))"
      ],
      "metadata": {
        "execution": {
          "iopub.status.busy": "2024-07-17T04:48:01.119355Z",
          "iopub.execute_input": "2024-07-17T04:48:01.11986Z",
          "iopub.status.idle": "2024-07-17T04:48:36.159369Z",
          "shell.execute_reply.started": "2024-07-17T04:48:01.119822Z",
          "shell.execute_reply": "2024-07-17T04:48:36.158252Z"
        },
        "trusted": true,
        "id": "4I0fcAHnQq6p"
      },
      "execution_count": 16,
      "outputs": []
    },
    {
      "cell_type": "code",
      "source": [
        "print(len(open_paths))"
      ],
      "metadata": {
        "execution": {
          "iopub.status.busy": "2024-07-17T04:49:00.62081Z",
          "iopub.execute_input": "2024-07-17T04:49:00.621325Z",
          "iopub.status.idle": "2024-07-17T04:49:00.627792Z",
          "shell.execute_reply.started": "2024-07-17T04:49:00.621287Z",
          "shell.execute_reply": "2024-07-17T04:49:00.626496Z"
        },
        "trusted": true,
        "id": "E0XMOrn7Qq6p",
        "outputId": "db5b25be-dab9-47b8-ed97-45454191f483",
        "colab": {
          "base_uri": "https://localhost:8080/"
        }
      },
      "execution_count": 17,
      "outputs": [
        {
          "output_type": "stream",
          "name": "stdout",
          "text": [
            "42952\n"
          ]
        }
      ]
    },
    {
      "cell_type": "code",
      "source": [
        "Image.open(open_paths[0])"
      ],
      "metadata": {
        "execution": {
          "iopub.status.busy": "2024-07-17T04:47:24.743427Z",
          "iopub.execute_input": "2024-07-17T04:47:24.743906Z",
          "iopub.status.idle": "2024-07-17T04:47:24.767356Z",
          "shell.execute_reply.started": "2024-07-17T04:47:24.743873Z",
          "shell.execute_reply": "2024-07-17T04:47:24.766053Z"
        },
        "trusted": true,
        "id": "DIgM_St9Qq6q",
        "outputId": "ea918c44-1343-4066-a938-60a31d0ef1a1",
        "colab": {
          "base_uri": "https://localhost:8080/",
          "height": 84
        }
      },
      "execution_count": 18,
      "outputs": [
        {
          "output_type": "execute_result",
          "data": {
            "text/plain": [
              "<PIL.PngImagePlugin.PngImageFile image mode=L size=67x67>"
            ],
            "image/png": "[encoded data removed]"
          },
          "metadata": {},
          "execution_count": 18
        }
      ]
    },
    {
      "cell_type": "code",
      "source": [
        "print(len(close_paths))"
      ],
      "metadata": {
        "execution": {
          "iopub.status.busy": "2024-07-17T04:49:11.04021Z",
          "iopub.execute_input": "2024-07-17T04:49:11.040746Z",
          "iopub.status.idle": "2024-07-17T04:49:11.047292Z",
          "shell.execute_reply.started": "2024-07-17T04:49:11.040702Z",
          "shell.execute_reply": "2024-07-17T04:49:11.045987Z"
        },
        "trusted": true,
        "id": "A2Me4GtYQq6q",
        "outputId": "18e98f42-3967-4e13-e8e3-2048332f3232",
        "colab": {
          "base_uri": "https://localhost:8080/"
        }
      },
      "execution_count": 19,
      "outputs": [
        {
          "output_type": "stream",
          "name": "stdout",
          "text": [
            "41946\n"
          ]
        }
      ]
    },
    {
      "cell_type": "code",
      "source": [
        "Image.open(close_paths[0])"
      ],
      "metadata": {
        "execution": {
          "iopub.status.busy": "2024-07-17T04:49:25.296049Z",
          "iopub.execute_input": "2024-07-17T04:49:25.296541Z",
          "iopub.status.idle": "2024-07-17T04:49:25.312076Z",
          "shell.execute_reply.started": "2024-07-17T04:49:25.296501Z",
          "shell.execute_reply": "2024-07-17T04:49:25.310414Z"
        },
        "trusted": true,
        "id": "PO4cosgYQq6q",
        "outputId": "39e9bd7e-9cde-4f25-fad4-946943bfbd30",
        "colab": {
          "base_uri": "https://localhost:8080/",
          "height": 109
        }
      },
      "execution_count": 20,
      "outputs": [
        {
          "output_type": "execute_result",
          "data": {
            "text/plain": [
              "<PIL.PngImagePlugin.PngImageFile image mode=L size=92x92>"
            ],
            "image/png": "[encoded data removed]"
          },
          "metadata": {},
          "execution_count": 20
        }
      ]
    },
    {
      "cell_type": "markdown",
      "source": [
        "So the dataset is pretty balanced so mostly there will be no issue of model biasness."
      ],
      "metadata": {
        "id": "zQFsNeHMQq6r"
      }
    },
    {
      "cell_type": "markdown",
      "source": [
        "Now I will make a pandas dataframe where I will store these paths along with there labels. Labels that I thought are 0 for closed eye images and 1 for open eye images."
      ],
      "metadata": {
        "id": "YfvIln3KQq6r"
      }
    },
    {
      "cell_type": "code",
      "source": [
        "paths = []\n",
        "labels = []"
      ],
      "metadata": {
        "execution": {
          "iopub.status.busy": "2024-07-17T04:54:54.127264Z",
          "iopub.execute_input": "2024-07-17T04:54:54.128121Z",
          "iopub.status.idle": "2024-07-17T04:54:54.134214Z",
          "shell.execute_reply.started": "2024-07-17T04:54:54.128081Z",
          "shell.execute_reply": "2024-07-17T04:54:54.132885Z"
        },
        "trusted": true,
        "id": "I1OJgA4MQq6r"
      },
      "execution_count": 21,
      "outputs": []
    },
    {
      "cell_type": "code",
      "source": [
        "for i in range(len(open_paths)):\n",
        "    paths.append(open_paths[i])\n",
        "    labels.append(1)"
      ],
      "metadata": {
        "execution": {
          "iopub.status.busy": "2024-07-17T04:55:51.397074Z",
          "iopub.execute_input": "2024-07-17T04:55:51.397614Z",
          "iopub.status.idle": "2024-07-17T04:55:51.422187Z",
          "shell.execute_reply.started": "2024-07-17T04:55:51.397557Z",
          "shell.execute_reply": "2024-07-17T04:55:51.420919Z"
        },
        "trusted": true,
        "id": "T8WPAVt8Qq6r"
      },
      "execution_count": 22,
      "outputs": []
    },
    {
      "cell_type": "code",
      "source": [
        "for i in range(len(close_paths)):\n",
        "    paths.append(close_paths[i])\n",
        "    labels.append(0)"
      ],
      "metadata": {
        "execution": {
          "iopub.status.busy": "2024-07-17T04:56:17.793978Z",
          "iopub.execute_input": "2024-07-17T04:56:17.794478Z",
          "iopub.status.idle": "2024-07-17T04:56:17.817616Z",
          "shell.execute_reply.started": "2024-07-17T04:56:17.794439Z",
          "shell.execute_reply": "2024-07-17T04:56:17.816137Z"
        },
        "trusted": true,
        "id": "RUCUOf3RQq6s"
      },
      "execution_count": 23,
      "outputs": []
    },
    {
      "cell_type": "code",
      "source": [
        "print(len(paths), len(labels))"
      ],
      "metadata": {
        "execution": {
          "iopub.status.busy": "2024-07-17T04:56:37.276148Z",
          "iopub.execute_input": "2024-07-17T04:56:37.277156Z",
          "iopub.status.idle": "2024-07-17T04:56:37.282973Z",
          "shell.execute_reply.started": "2024-07-17T04:56:37.277106Z",
          "shell.execute_reply": "2024-07-17T04:56:37.281622Z"
        },
        "trusted": true,
        "id": "RZG3S-TNQq6s",
        "outputId": "492cf3a4-64ad-4e9d-abcf-4f9ae618d3b5",
        "colab": {
          "base_uri": "https://localhost:8080/"
        }
      },
      "execution_count": 24,
      "outputs": [
        {
          "output_type": "stream",
          "name": "stdout",
          "text": [
            "84898 84898\n"
          ]
        }
      ]
    },
    {
      "cell_type": "markdown",
      "source": [
        "Now there is one issue that our labels list contains 1's in the starting and 0's in the end this will create issue when we will do train-test split further as model will not get enough datapoints so to avoid that let's shuffle it once right now"
      ],
      "metadata": {
        "id": "zuE_U9L6Qq6s"
      }
    },
    {
      "cell_type": "code",
      "source": [
        "combined = list(zip(paths, labels))\n",
        "\n",
        "random.shuffle(combined)\n",
        "\n",
        "paths[:], labels[:] = zip(*combined)"
      ],
      "metadata": {
        "execution": {
          "iopub.status.busy": "2024-07-17T05:01:46.48782Z",
          "iopub.execute_input": "2024-07-17T05:01:46.488379Z",
          "iopub.status.idle": "2024-07-17T05:01:47.038727Z",
          "shell.execute_reply.started": "2024-07-17T05:01:46.488338Z",
          "shell.execute_reply": "2024-07-17T05:01:47.037459Z"
        },
        "trusted": true,
        "id": "aA5is1nxQq6s"
      },
      "execution_count": 25,
      "outputs": []
    },
    {
      "cell_type": "code",
      "source": [
        "Image.open(paths[590])"
      ],
      "metadata": {
        "execution": {
          "iopub.status.busy": "2024-07-17T05:02:41.925221Z",
          "iopub.execute_input": "2024-07-17T05:02:41.925812Z",
          "iopub.status.idle": "2024-07-17T05:02:41.947814Z",
          "shell.execute_reply.started": "2024-07-17T05:02:41.92577Z",
          "shell.execute_reply": "2024-07-17T05:02:41.94658Z"
        },
        "trusted": true,
        "id": "m38Ds2BnQq6s",
        "outputId": "04758c9e-13ff-4a82-b084-2a338715d8f6",
        "colab": {
          "base_uri": "https://localhost:8080/",
          "height": 95
        }
      },
      "execution_count": 26,
      "outputs": [
        {
          "output_type": "execute_result",
          "data": {
            "text/plain": [
              "<PIL.PngImagePlugin.PngImageFile image mode=L size=78x78>"
            ],
            "image/png": "[encoded data removed]"
          },
          "metadata": {},
          "execution_count": 26
        }
      ]
    },
    {
      "cell_type": "code",
      "source": [
        "labels[590]"
      ],
      "metadata": {
        "execution": {
          "iopub.status.busy": "2024-07-17T05:02:50.149689Z",
          "iopub.execute_input": "2024-07-17T05:02:50.150185Z",
          "iopub.status.idle": "2024-07-17T05:02:50.158489Z",
          "shell.execute_reply.started": "2024-07-17T05:02:50.150148Z",
          "shell.execute_reply": "2024-07-17T05:02:50.157171Z"
        },
        "trusted": true,
        "id": "_NfJdl_KQq6t",
        "outputId": "f7a7c6eb-d6ce-4513-bf46-4703650d38d7",
        "colab": {
          "base_uri": "https://localhost:8080/"
        }
      },
      "execution_count": 27,
      "outputs": [
        {
          "output_type": "execute_result",
          "data": {
            "text/plain": [
              "0"
            ]
          },
          "metadata": {},
          "execution_count": 27
        }
      ]
    },
    {
      "cell_type": "markdown",
      "source": [
        "Shuffled successfully"
      ],
      "metadata": {
        "id": "lOLyP4jvQq6t"
      }
    },
    {
      "cell_type": "code",
      "source": [
        "df = pd.DataFrame({'paths': paths, 'labels': labels})"
      ],
      "metadata": {
        "execution": {
          "iopub.status.busy": "2024-07-17T05:04:07.732673Z",
          "iopub.execute_input": "2024-07-17T05:04:07.733667Z",
          "iopub.status.idle": "2024-07-17T05:04:07.815197Z",
          "shell.execute_reply.started": "2024-07-17T05:04:07.73362Z",
          "shell.execute_reply": "2024-07-17T05:04:07.813764Z"
        },
        "trusted": true,
        "id": "FpwkzcLvQq6t"
      },
      "execution_count": 28,
      "outputs": []
    },
    {
      "cell_type": "code",
      "source": [
        "df.to_csv('DrowsinessDataset.csv', index=False)"
      ],
      "metadata": {
        "execution": {
          "iopub.status.busy": "2024-07-17T05:04:36.216892Z",
          "iopub.execute_input": "2024-07-17T05:04:36.217929Z",
          "iopub.status.idle": "2024-07-17T05:04:36.679757Z",
          "shell.execute_reply.started": "2024-07-17T05:04:36.217884Z",
          "shell.execute_reply": "2024-07-17T05:04:36.678415Z"
        },
        "trusted": true,
        "id": "fksGWSrkQq6t"
      },
      "execution_count": 29,
      "outputs": []
    },
    {
      "cell_type": "code",
      "source": [
        "df.head()"
      ],
      "metadata": {
        "execution": {
          "iopub.status.busy": "2024-07-17T05:05:05.001404Z",
          "iopub.execute_input": "2024-07-17T05:05:05.001986Z",
          "iopub.status.idle": "2024-07-17T05:05:05.025202Z",
          "shell.execute_reply.started": "2024-07-17T05:05:05.001936Z",
          "shell.execute_reply": "2024-07-17T05:05:05.02363Z"
        },
        "trusted": true,
        "id": "N9n__5kbQq6u",
        "outputId": "3a8481ba-b1b9-4f34-c918-e7a28fd5e6d6",
        "colab": {
          "base_uri": "https://localhost:8080/",
          "height": 206
        }
      },
      "execution_count": 30,
      "outputs": [
        {
          "output_type": "execute_result",
          "data": {
            "text/plain": [
              "                                               paths  labels\n",
              "0  /kaggle/input/mrl-eye-dataset/mrleyedataset/Op...       1\n",
              "1  /kaggle/input/mrl-eye-dataset/mrleyedataset/Cl...       0\n",
              "2  /kaggle/input/mrl-eye-dataset/mrleyedataset/Cl...       0\n",
              "3  /kaggle/input/mrl-eye-dataset/mrleyedataset/Op...       1\n",
              "4  /kaggle/input/mrl-eye-dataset/mrleyedataset/Cl...       0"
            ],
            "text/html": [
              "\n",
              "  <div id=\"df-f94e4cb9-11e7-4d0d-814e-f34bb3555b53\" class=\"colab-df-container\">\n",
              "    <div>\n",
              "<style scoped>\n",
              "    .dataframe tbody tr th:only-of-type {\n",
              "        vertical-align: middle;\n",
              "    }\n",
              "\n",
              "    .dataframe tbody tr th {\n",
              "        vertical-align: top;\n",
              "    }\n",
              "\n",
              "    .dataframe thead th {\n",
              "        text-align: right;\n",
              "    }\n",
              "</style>\n",
              "<table border=\"1\" class=\"dataframe\">\n",
              "  <thead>\n",
              "    <tr style=\"text-align: right;\">\n",
              "      <th></th>\n",
              "      <th>paths</th>\n",
              "      <th>labels</th>\n",
              "    </tr>\n",
              "  </thead>\n",
              "  <tbody>\n",
              "    <tr>\n",
              "      <th>0</th>\n",
              "      <td>/kaggle/input/mrl-eye-dataset/mrleyedataset/Op...</td>\n",
              "      <td>1</td>\n",
              "    </tr>\n",
              "    <tr>\n",
              "      <th>1</th>\n",
              "      <td>/kaggle/input/mrl-eye-dataset/mrleyedataset/Cl...</td>\n",
              "      <td>0</td>\n",
              "    </tr>\n",
              "    <tr>\n",
              "      <th>2</th>\n",
              "      <td>/kaggle/input/mrl-eye-dataset/mrleyedataset/Cl...</td>\n",
              "      <td>0</td>\n",
              "    </tr>\n",
              "    <tr>\n",
              "      <th>3</th>\n",
              "      <td>/kaggle/input/mrl-eye-dataset/mrleyedataset/Op...</td>\n",
              "      <td>1</td>\n",
              "    </tr>\n",
              "    <tr>\n",
              "      <th>4</th>\n",
              "      <td>/kaggle/input/mrl-eye-dataset/mrleyedataset/Cl...</td>\n",
              "      <td>0</td>\n",
              "    </tr>\n",
              "  </tbody>\n",
              "</table>\n",
              "</div>\n",
              "    <div class=\"colab-df-buttons\">\n",
              "\n",
              "  <div class=\"colab-df-container\">\n",
              "    <button class=\"colab-df-convert\" onclick=\"convertToInteractive('df-f94e4cb9-11e7-4d0d-814e-f34bb3555b53')\"\n",
              "            title=\"Convert this dataframe to an interactive table.\"\n",
              "            style=\"display:none;\">\n",
              "\n",
              "  <svg xmlns=\"http://www.w3.org/2000/svg\" height=\"24px\" viewBox=\"0 -960 960 960\">\n",
              "    <path d=\"M120-120v-720h720v720H120Zm60-500h600v-160H180v160Zm220 220h160v-160H400v160Zm0 220h160v-160H400v160ZM180-400h160v-160H180v160Zm440 0h160v-160H620v160ZM180-180h160v-160H180v160Zm440 0h160v-160H620v160Z\"/>\n",
              "  </svg>\n",
              "    </button>\n",
              "\n",
              "  <style>\n",
              "    .colab-df-container {\n",
              "      display:flex;\n",
              "      gap: 12px;\n",
              "    }\n",
              "\n",
              "    .colab-df-convert {\n",
              "      background-color: #E8F0FE;\n",
              "      border: none;\n",
              "      border-radius: 50%;\n",
              "      cursor: pointer;\n",
              "      display: none;\n",
              "      fill: #1967D2;\n",
              "      height: 32px;\n",
              "      padding: 0 0 0 0;\n",
              "      width: 32px;\n",
              "    }\n",
              "\n",
              "    .colab-df-convert:hover {\n",
              "      background-color: #E2EBFA;\n",
              "      box-shadow: 0px 1px 2px rgba(60, 64, 67, 0.3), 0px 1px 3px 1px rgba(60, 64, 67, 0.15);\n",
              "      fill: #174EA6;\n",
              "    }\n",
              "\n",
              "    .colab-df-buttons div {\n",
              "      margin-bottom: 4px;\n",
              "    }\n",
              "\n",
              "    [theme=dark] .colab-df-convert {\n",
              "      background-color: #3B4455;\n",
              "      fill: #D2E3FC;\n",
              "    }\n",
              "\n",
              "    [theme=dark] .colab-df-convert:hover {\n",
              "      background-color: #434B5C;\n",
              "      box-shadow: 0px 1px 3px 1px rgba(0, 0, 0, 0.15);\n",
              "      filter: drop-shadow(0px 1px 2px rgba(0, 0, 0, 0.3));\n",
              "      fill: #FFFFFF;\n",
              "    }\n",
              "  </style>\n",
              "\n",
              "    <script>\n",
              "      const buttonEl =\n",
              "        document.querySelector('#df-f94e4cb9-11e7-4d0d-814e-f34bb3555b53 button.colab-df-convert');\n",
              "      buttonEl.style.display =\n",
              "        google.colab.kernel.accessAllowed ? 'block' : 'none';\n",
              "\n",
              "      async function convertToInteractive(key) {\n",
              "        const element = document.querySelector('#df-f94e4cb9-11e7-4d0d-814e-f34bb3555b53');\n",
              "        const dataTable =\n",
              "          await google.colab.kernel.invokeFunction('convertToInteractive',\n",
              "                                                    [key], {});\n",
              "        if (!dataTable) return;\n",
              "\n",
              "        const docLinkHtml = 'Like what you see? Visit the ' +\n",
              "          '<a target=\"_blank\" href=https://colab.research.google.com/notebooks/data_table.ipynb>data table notebook</a>'\n",
              "          + ' to learn more about interactive tables.';\n",
              "        element.innerHTML = '';\n",
              "        dataTable['output_type'] = 'display_data';\n",
              "        await google.colab.output.renderOutput(dataTable, element);\n",
              "        const docLink = document.createElement('div');\n",
              "        docLink.innerHTML = docLinkHtml;\n",
              "        element.appendChild(docLink);\n",
              "      }\n",
              "    </script>\n",
              "  </div>\n",
              "\n",
              "\n",
              "<div id=\"df-5fc43691-6850-45fb-87cd-ccf57895c05b\">\n",
              "  <button class=\"colab-df-quickchart\" onclick=\"quickchart('df-5fc43691-6850-45fb-87cd-ccf57895c05b')\"\n",
              "            title=\"Suggest charts\"\n",
              "            style=\"display:none;\">\n",
              "\n",
              "<svg xmlns=\"http://www.w3.org/2000/svg\" height=\"24px\"viewBox=\"0 0 24 24\"\n",
              "     width=\"24px\">\n",
              "    <g>\n",
              "        <path d=\"M19 3H5c-1.1 0-2 .9-2 2v14c0 1.1.9 2 2 2h14c1.1 0 2-.9 2-2V5c0-1.1-.9-2-2-2zM9 17H7v-7h2v7zm4 0h-2V7h2v10zm4 0h-2v-4h2v4z\"/>\n",
              "    </g>\n",
              "</svg>\n",
              "  </button>\n",
              "\n",
              "<style>\n",
              "  .colab-df-quickchart {\n",
              "      --bg-color: #E8F0FE;\n",
              "      --fill-color: #1967D2;\n",
              "      --hover-bg-color: #E2EBFA;\n",
              "      --hover-fill-color: #174EA6;\n",
              "      --disabled-fill-color: #AAA;\n",
              "      --disabled-bg-color: #DDD;\n",
              "  }\n",
              "\n",
              "  [theme=dark] .colab-df-quickchart {\n",
              "      --bg-color: #3B4455;\n",
              "      --fill-color: #D2E3FC;\n",
              "      --hover-bg-color: #434B5C;\n",
              "      --hover-fill-color: #FFFFFF;\n",
              "      --disabled-bg-color: #3B4455;\n",
              "      --disabled-fill-color: #666;\n",
              "  }\n",
              "\n",
              "  .colab-df-quickchart {\n",
              "    background-color: var(--bg-color);\n",
              "    border: none;\n",
              "    border-radius: 50%;\n",
              "    cursor: pointer;\n",
              "    display: none;\n",
              "    fill: var(--fill-color);\n",
              "    height: 32px;\n",
              "    padding: 0;\n",
              "    width: 32px;\n",
              "  }\n",
              "\n",
              "  .colab-df-quickchart:hover {\n",
              "    background-color: var(--hover-bg-color);\n",
              "    box-shadow: 0 1px 2px rgba(60, 64, 67, 0.3), 0 1px 3px 1px rgba(60, 64, 67, 0.15);\n",
              "    fill: var(--button-hover-fill-color);\n",
              "  }\n",
              "\n",
              "  .colab-df-quickchart-complete:disabled,\n",
              "  .colab-df-quickchart-complete:disabled:hover {\n",
              "    background-color: var(--disabled-bg-color);\n",
              "    fill: var(--disabled-fill-color);\n",
              "    box-shadow: none;\n",
              "  }\n",
              "\n",
              "  .colab-df-spinner {\n",
              "    border: 2px solid var(--fill-color);\n",
              "    border-color: transparent;\n",
              "    border-bottom-color: var(--fill-color);\n",
              "    animation:\n",
              "      spin 1s steps(1) infinite;\n",
              "  }\n",
              "\n",
              "  @keyframes spin {\n",
              "    0% {\n",
              "      border-color: transparent;\n",
              "      border-bottom-color: var(--fill-color);\n",
              "      border-left-color: var(--fill-color);\n",
              "    }\n",
              "    20% {\n",
              "      border-color: transparent;\n",
              "      border-left-color: var(--fill-color);\n",
              "      border-top-color: var(--fill-color);\n",
              "    }\n",
              "    30% {\n",
              "      border-color: transparent;\n",
              "      border-left-color: var(--fill-color);\n",
              "      border-top-color: var(--fill-color);\n",
              "      border-right-color: var(--fill-color);\n",
              "    }\n",
              "    40% {\n",
              "      border-color: transparent;\n",
              "      border-right-color: var(--fill-color);\n",
              "      border-top-color: var(--fill-color);\n",
              "    }\n",
              "    60% {\n",
              "      border-color: transparent;\n",
              "      border-right-color: var(--fill-color);\n",
              "    }\n",
              "    80% {\n",
              "      border-color: transparent;\n",
              "      border-right-color: var(--fill-color);\n",
              "      border-bottom-color: var(--fill-color);\n",
              "    }\n",
              "    90% {\n",
              "      border-color: transparent;\n",
              "      border-bottom-color: var(--fill-color);\n",
              "    }\n",
              "  }\n",
              "</style>\n",
              "\n",
              "  <script>\n",
              "    async function quickchart(key) {\n",
              "      const quickchartButtonEl =\n",
              "        document.querySelector('#' + key + ' button');\n",
              "      quickchartButtonEl.disabled = true;  // To prevent multiple clicks.\n",
              "      quickchartButtonEl.classList.add('colab-df-spinner');\n",
              "      try {\n",
              "        const charts = await google.colab.kernel.invokeFunction(\n",
              "            'suggestCharts', [key], {});\n",
              "      } catch (error) {\n",
              "        console.error('Error during call to suggestCharts:', error);\n",
              "      }\n",
              "      quickchartButtonEl.classList.remove('colab-df-spinner');\n",
              "      quickchartButtonEl.classList.add('colab-df-quickchart-complete');\n",
              "    }\n",
              "    (() => {\n",
              "      let quickchartButtonEl =\n",
              "        document.querySelector('#df-5fc43691-6850-45fb-87cd-ccf57895c05b button');\n",
              "      quickchartButtonEl.style.display =\n",
              "        google.colab.kernel.accessAllowed ? 'block' : 'none';\n",
              "    })();\n",
              "  </script>\n",
              "</div>\n",
              "\n",
              "    </div>\n",
              "  </div>\n"
            ],
            "application/vnd.google.colaboratory.intrinsic+json": {
              "type": "dataframe",
              "variable_name": "df",
              "summary": "{\n  \"name\": \"df\",\n  \"rows\": 84898,\n  \"fields\": [\n    {\n      \"column\": \"paths\",\n      \"properties\": {\n        \"dtype\": \"string\",\n        \"num_unique_values\": 84898,\n        \"samples\": [\n          \"/kaggle/input/mrl-eye-dataset/mrleyedataset/Open-Eyes/s0027_00094_0_0_1_0_1_01.png\",\n          \"/kaggle/input/mrl-eye-dataset/mrleyedataset/Open-Eyes/s0032_01649_0_1_1_2_1_02.png\",\n          \"/kaggle/input/mrl-eye-dataset/mrleyedataset/Close-Eyes/s0014_02512_0_1_0_0_0_01.png\"\n        ],\n        \"semantic_type\": \"\",\n        \"description\": \"\"\n      }\n    },\n    {\n      \"column\": \"labels\",\n      \"properties\": {\n        \"dtype\": \"number\",\n        \"std\": 0,\n        \"min\": 0,\n        \"max\": 1,\n        \"num_unique_values\": 2,\n        \"samples\": [\n          0,\n          1\n        ],\n        \"semantic_type\": \"\",\n        \"description\": \"\"\n      }\n    }\n  ]\n}"
            }
          },
          "metadata": {},
          "execution_count": 30
        }
      ]
    },
    {
      "cell_type": "markdown",
      "source": [
        "# **Data Processing and Pre-processing of images**"
      ],
      "metadata": {
        "id": "pCryBZMHQq6u"
      }
    },
    {
      "cell_type": "code",
      "source": [
        "image = cv.imread(df.iloc[590]['paths'])\n",
        "if image is not None:\n",
        "    height, width, channels = image.shape\n",
        "    print(f\"Image shape: Height={height}, Width={width}, Channels={channels}\")\n",
        "else:\n",
        "    print(\"Error: Image not loaded correctly\")"
      ],
      "metadata": {
        "execution": {
          "iopub.status.busy": "2024-07-17T05:08:44.753886Z",
          "iopub.execute_input": "2024-07-17T05:08:44.754401Z",
          "iopub.status.idle": "2024-07-17T05:08:44.764901Z",
          "shell.execute_reply.started": "2024-07-17T05:08:44.754366Z",
          "shell.execute_reply": "2024-07-17T05:08:44.763663Z"
        },
        "trusted": true,
        "id": "-0aLV7ceQq6u",
        "outputId": "a453b242-1c9f-4c36-c256-a6a1430624a3",
        "colab": {
          "base_uri": "https://localhost:8080/"
        }
      },
      "execution_count": null,
      "outputs": [
        {
          "output_type": "stream",
          "name": "stdout",
          "text": [
            "Image shape: Height=56, Width=56, Channels=3\n"
          ]
        }
      ]
    },
    {
      "cell_type": "code",
      "source": [
        "class EyeDataset(Dataset):\n",
        "\n",
        "    def __init__(self, data, augmentations=None):\n",
        "        self.paths = data['paths']\n",
        "        self.labels = data['labels']\n",
        "        if augmentations is None:\n",
        "          self.augmentations = transforms.Compose([transforms.ToTensor()])\n",
        "\n",
        "        else:\n",
        "          self.augmentations = augmentations\n",
        "\n",
        "    def __len__(self):\n",
        "        return len(self.paths)\n",
        "\n",
        "    def __getitem__(self, index):\n",
        "        label = self.labels[index]\n",
        "\n",
        "        sample = Image.open(self.paths[index]).convert(\"RGB\")\n",
        "        sample = self.augmentations(sample)\n",
        "\n",
        "        return sample,label"
      ],
      "metadata": {
        "execution": {
          "iopub.status.busy": "2024-07-17T05:21:13.918407Z",
          "iopub.execute_input": "2024-07-17T05:21:13.918938Z",
          "iopub.status.idle": "2024-07-17T05:21:13.929354Z",
          "shell.execute_reply.started": "2024-07-17T05:21:13.918897Z",
          "shell.execute_reply": "2024-07-17T05:21:13.92794Z"
        },
        "trusted": true,
        "id": "N3tg5eNNQq6u"
      },
      "execution_count": 31,
      "outputs": []
    },
    {
      "cell_type": "code",
      "source": [
        "augmentations = transforms.Compose([\n",
        "    transforms.Resize((224,224)),\n",
        "    transforms.ToTensor(),\n",
        "])"
      ],
      "metadata": {
        "execution": {
          "iopub.status.busy": "2024-07-17T05:24:19.07156Z",
          "iopub.execute_input": "2024-07-17T05:24:19.072096Z",
          "iopub.status.idle": "2024-07-17T05:24:19.078973Z",
          "shell.execute_reply.started": "2024-07-17T05:24:19.072054Z",
          "shell.execute_reply": "2024-07-17T05:24:19.077287Z"
        },
        "trusted": true,
        "id": "M72gxE2mQq6v"
      },
      "execution_count": 32,
      "outputs": []
    },
    {
      "cell_type": "code",
      "source": [
        "eye_dataset = EyeDataset(df, augmentations)"
      ],
      "metadata": {
        "execution": {
          "iopub.status.busy": "2024-07-17T05:27:09.887027Z",
          "iopub.execute_input": "2024-07-17T05:27:09.887541Z",
          "iopub.status.idle": "2024-07-17T05:27:09.893832Z",
          "shell.execute_reply.started": "2024-07-17T05:27:09.887497Z",
          "shell.execute_reply": "2024-07-17T05:27:09.892307Z"
        },
        "trusted": true,
        "id": "y6a2WR5hQq6z"
      },
      "execution_count": 33,
      "outputs": []
    },
    {
      "cell_type": "code",
      "source": [
        "sample, label = eye_dataset[90]"
      ],
      "metadata": {
        "execution": {
          "iopub.status.busy": "2024-07-17T05:27:11.947223Z",
          "iopub.execute_input": "2024-07-17T05:27:11.947714Z",
          "iopub.status.idle": "2024-07-17T05:27:11.960681Z",
          "shell.execute_reply.started": "2024-07-17T05:27:11.947678Z",
          "shell.execute_reply": "2024-07-17T05:27:11.95933Z"
        },
        "trusted": true,
        "id": "JrHnyYpAQq6z"
      },
      "execution_count": 34,
      "outputs": []
    },
    {
      "cell_type": "code",
      "source": [
        "print(sample.shape)"
      ],
      "metadata": {
        "colab": {
          "base_uri": "https://localhost:8080/"
        },
        "id": "vrdXCqPRSZTM",
        "outputId": "b504a02e-5ba4-441b-a07d-9656a0238bd6"
      },
      "execution_count": 35,
      "outputs": [
        {
          "output_type": "stream",
          "name": "stdout",
          "text": [
            "torch.Size([3, 224, 224])\n"
          ]
        }
      ]
    },
    {
      "cell_type": "code",
      "source": [
        "image = sample.numpy().transpose((1, 2, 0))\n",
        "\n",
        "image = np.clip(image, 0, 1)\n",
        "\n",
        "plt.imshow(image)\n",
        "plt.title(label)\n",
        "plt.show()"
      ],
      "metadata": {
        "execution": {
          "iopub.status.busy": "2024-07-17T05:27:20.116696Z",
          "iopub.execute_input": "2024-07-17T05:27:20.118363Z",
          "iopub.status.idle": "2024-07-17T05:27:20.480338Z",
          "shell.execute_reply.started": "2024-07-17T05:27:20.118299Z",
          "shell.execute_reply": "2024-07-17T05:27:20.479011Z"
        },
        "trusted": true,
        "id": "3ZP4sJEXQq6z",
        "outputId": "50754754-4e7f-4f76-e646-0fe9deb842d9",
        "colab": {
          "base_uri": "https://localhost:8080/",
          "height": 452
        }
      },
      "execution_count": 36,
      "outputs": [
        {
          "output_type": "display_data",
          "data": {
            "text/plain": [
              "<Figure size 640x480 with 1 Axes>"
            ],
            "image/png": "[encoded data removed]"
          },
          "metadata": {}
        }
      ]
    },
    {
      "cell_type": "markdown",
      "source": [
        "Wooho the dataset is ready!! Time to split it into training and testing datasets and create dataloaders!!"
      ],
      "metadata": {
        "id": "fUwTiN5fQq6z"
      }
    },
    {
      "cell_type": "code",
      "source": [
        "train_indices, testing_indices = train_test_split(range(len(eye_dataset)), test_size=0.2, random_state=42)"
      ],
      "metadata": {
        "execution": {
          "iopub.status.busy": "2024-07-17T05:29:39.59572Z",
          "iopub.execute_input": "2024-07-17T05:29:39.596237Z",
          "iopub.status.idle": "2024-07-17T05:29:39.646151Z",
          "shell.execute_reply.started": "2024-07-17T05:29:39.596198Z",
          "shell.execute_reply": "2024-07-17T05:29:39.644837Z"
        },
        "trusted": true,
        "id": "Yx6v32NvQq60"
      },
      "execution_count": 37,
      "outputs": []
    },
    {
      "cell_type": "code",
      "source": [
        "train_dataset = utils.Subset(eye_dataset, train_indices)\n",
        "testing_dataset = utils.Subset(eye_dataset, testing_indices)"
      ],
      "metadata": {
        "execution": {
          "iopub.status.busy": "2024-07-17T05:30:37.210715Z",
          "iopub.execute_input": "2024-07-17T05:30:37.211314Z",
          "iopub.status.idle": "2024-07-17T05:30:37.222711Z",
          "shell.execute_reply.started": "2024-07-17T05:30:37.211254Z",
          "shell.execute_reply": "2024-07-17T05:30:37.219955Z"
        },
        "trusted": true,
        "id": "p_vbFjKqQq60"
      },
      "execution_count": 38,
      "outputs": []
    },
    {
      "cell_type": "code",
      "source": [
        "print(f\"Length of training dataset:{len(train_dataset)}\")\n",
        "print(f\"Length of testing dataset:{len(testing_dataset)}\")"
      ],
      "metadata": {
        "execution": {
          "iopub.status.busy": "2024-07-17T05:31:34.466829Z",
          "iopub.execute_input": "2024-07-17T05:31:34.468106Z",
          "iopub.status.idle": "2024-07-17T05:31:34.474922Z",
          "shell.execute_reply.started": "2024-07-17T05:31:34.468054Z",
          "shell.execute_reply": "2024-07-17T05:31:34.473534Z"
        },
        "trusted": true,
        "id": "donLGrCQQq60",
        "outputId": "2f8f1464-16e1-4a30-8e0d-018f06a223ff",
        "colab": {
          "base_uri": "https://localhost:8080/"
        }
      },
      "execution_count": 39,
      "outputs": [
        {
          "output_type": "stream",
          "name": "stdout",
          "text": [
            "Length of training dataset:67918\n",
            "Length of testing dataset:16980\n"
          ]
        }
      ]
    },
    {
      "cell_type": "code",
      "source": [
        "train_loader = DataLoader(train_dataset, shuffle=True, batch_size=32, num_workers=0)\n",
        "test_loader = DataLoader(testing_dataset, shuffle=False, batch_size=32, num_workers=0)"
      ],
      "metadata": {
        "execution": {
          "iopub.status.busy": "2024-07-17T05:32:14.174592Z",
          "iopub.execute_input": "2024-07-17T05:32:14.175111Z",
          "iopub.status.idle": "2024-07-17T05:32:14.18226Z",
          "shell.execute_reply.started": "2024-07-17T05:32:14.17507Z",
          "shell.execute_reply": "2024-07-17T05:32:14.180937Z"
        },
        "trusted": true,
        "id": "dkiWI3mCQq60"
      },
      "execution_count": 40,
      "outputs": []
    },
    {
      "cell_type": "markdown",
      "source": [
        "# **MODEL CREATION**"
      ],
      "metadata": {
        "id": "14meNMTaQq61"
      }
    },
    {
      "cell_type": "markdown",
      "source": [
        "I am using the pre-trained Xception model for this task. Using pre-trained model will help us leverage the advantages of transfer learning"
      ],
      "metadata": {
        "id": "HvrkbqAKQq61"
      }
    },
    {
      "cell_type": "code",
      "source": [
        "model = timm.create_model(\"xception\", pretrained=True)"
      ],
      "metadata": {
        "execution": {
          "iopub.status.busy": "2024-07-17T05:34:29.542626Z",
          "iopub.execute_input": "2024-07-17T05:34:29.544033Z",
          "iopub.status.idle": "2024-07-17T05:34:30.199876Z",
          "shell.execute_reply.started": "2024-07-17T05:34:29.543974Z",
          "shell.execute_reply": "2024-07-17T05:34:30.198434Z"
        },
        "trusted": true,
        "id": "kst62LDXQq61",
        "colab": {
          "base_uri": "https://localhost:8080/"
        },
        "outputId": "42fe9d8e-477f-4300-d255-316e792af5da"
      },
      "execution_count": 41,
      "outputs": [
        {
          "output_type": "stream",
          "name": "stderr",
          "text": [
            "/usr/local/lib/python3.10/dist-packages/timm/models/_factory.py:117: UserWarning: Mapping deprecated model name xception to current legacy_xception.\n",
            "  model = create_fn(\n",
            "Downloading: \"https://github.com/rwightman/pytorch-image-models/releases/download/v0.1-cadene/xception-43020ad28.pth\" to /root/.cache/torch/hub/checkpoints/xception-43020ad28.pth\n"
          ]
        }
      ]
    },
    {
      "cell_type": "code",
      "source": [
        "in_features = model.fc.in_features\n",
        "model.fc = nn.Linear(in_features, 2)"
      ],
      "metadata": {
        "execution": {
          "iopub.status.busy": "2024-07-17T05:34:45.549786Z",
          "iopub.execute_input": "2024-07-17T05:34:45.55031Z",
          "iopub.status.idle": "2024-07-17T05:34:45.558615Z",
          "shell.execute_reply.started": "2024-07-17T05:34:45.550268Z",
          "shell.execute_reply": "2024-07-17T05:34:45.557091Z"
        },
        "trusted": true,
        "id": "Q7htQyAdQq61"
      },
      "execution_count": 42,
      "outputs": []
    },
    {
      "cell_type": "code",
      "source": [
        "print(model)"
      ],
      "metadata": {
        "execution": {
          "iopub.status.busy": "2024-07-17T05:35:23.786377Z",
          "iopub.execute_input": "2024-07-17T05:35:23.7875Z",
          "iopub.status.idle": "2024-07-17T05:35:23.796811Z",
          "shell.execute_reply.started": "2024-07-17T05:35:23.787452Z",
          "shell.execute_reply": "2024-07-17T05:35:23.795368Z"
        },
        "trusted": true,
        "id": "Kvy4Vz2yQq62",
        "outputId": "c168fc4b-1832-4fc1-da6a-9aaf6ea039a1",
        "colab": {
          "base_uri": "https://localhost:8080/"
        }
      },
      "execution_count": 43,
      "outputs": [
        {
          "output_type": "stream",
          "name": "stdout",
          "text": [
            "Xception(\n",
            "  (conv1): Conv2d(3, 32, kernel_size=(3, 3), stride=(2, 2), bias=False)\n",
            "  (bn1): BatchNorm2d(32, eps=1e-05, momentum=0.1, affine=True, track_running_stats=True)\n",
            "  (act1): ReLU(inplace=True)\n",
            "  (conv2): Conv2d(32, 64, kernel_size=(3, 3), stride=(1, 1), bias=False)\n",
            "  (bn2): BatchNorm2d(64, eps=1e-05, momentum=0.1, affine=True, track_running_stats=True)\n",
            "  (act2): ReLU(inplace=True)\n",
            "  (block1): Block(\n",
            "    (skip): Conv2d(64, 128, kernel_size=(1, 1), stride=(2, 2), bias=False)\n",
            "    (skipbn): BatchNorm2d(128, eps=1e-05, momentum=0.1, affine=True, track_running_stats=True)\n",
            "    (rep): Sequential(\n",
            "      (0): SeparableConv2d(\n",
            "        (conv1): Conv2d(64, 64, kernel_size=(3, 3), stride=(1, 1), padding=(1, 1), groups=64, bias=False)\n",
            "        (pointwise): Conv2d(64, 128, kernel_size=(1, 1), stride=(1, 1), bias=False)\n",
            "      )\n",
            "      (1): BatchNorm2d(128, eps=1e-05, momentum=0.1, affine=True, track_running_stats=True)\n",
            "      (2): ReLU(inplace=True)\n",
            "      (3): SeparableConv2d(\n",
            "        (conv1): Conv2d(128, 128, kernel_size=(3, 3), stride=(1, 1), padding=(1, 1), groups=128, bias=False)\n",
            "        (pointwise): Conv2d(128, 128, kernel_size=(1, 1), stride=(1, 1), bias=False)\n",
            "      )\n",
            "      (4): BatchNorm2d(128, eps=1e-05, momentum=0.1, affine=True, track_running_stats=True)\n",
            "      (5): MaxPool2d(kernel_size=3, stride=2, padding=1, dilation=1, ceil_mode=False)\n",
            "    )\n",
            "  )\n",
            "  (block2): Block(\n",
            "    (skip): Conv2d(128, 256, kernel_size=(1, 1), stride=(2, 2), bias=False)\n",
            "    (skipbn): BatchNorm2d(256, eps=1e-05, momentum=0.1, affine=True, track_running_stats=True)\n",
            "    (rep): Sequential(\n",
            "      (0): ReLU()\n",
            "      (1): SeparableConv2d(\n",
            "        (conv1): Conv2d(128, 128, kernel_size=(3, 3), stride=(1, 1), padding=(1, 1), groups=128, bias=False)\n",
            "        (pointwise): Conv2d(128, 256, kernel_size=(1, 1), stride=(1, 1), bias=False)\n",
            "      )\n",
            "      (2): BatchNorm2d(256, eps=1e-05, momentum=0.1, affine=True, track_running_stats=True)\n",
            "      (3): ReLU(inplace=True)\n",
            "      (4): SeparableConv2d(\n",
            "        (conv1): Conv2d(256, 256, kernel_size=(3, 3), stride=(1, 1), padding=(1, 1), groups=256, bias=False)\n",
            "        (pointwise): Conv2d(256, 256, kernel_size=(1, 1), stride=(1, 1), bias=False)\n",
            "      )\n",
            "      (5): BatchNorm2d(256, eps=1e-05, momentum=0.1, affine=True, track_running_stats=True)\n",
            "      (6): MaxPool2d(kernel_size=3, stride=2, padding=1, dilation=1, ceil_mode=False)\n",
            "    )\n",
            "  )\n",
            "  (block3): Block(\n",
            "    (skip): Conv2d(256, 728, kernel_size=(1, 1), stride=(2, 2), bias=False)\n",
            "    (skipbn): BatchNorm2d(728, eps=1e-05, momentum=0.1, affine=True, track_running_stats=True)\n",
            "    (rep): Sequential(\n",
            "      (0): ReLU()\n",
            "      (1): SeparableConv2d(\n",
            "        (conv1): Conv2d(256, 256, kernel_size=(3, 3), stride=(1, 1), padding=(1, 1), groups=256, bias=False)\n",
            "        (pointwise): Conv2d(256, 728, kernel_size=(1, 1), stride=(1, 1), bias=False)\n",
            "      )\n",
            "      (2): BatchNorm2d(728, eps=1e-05, momentum=0.1, affine=True, track_running_stats=True)\n",
            "      (3): ReLU(inplace=True)\n",
            "      (4): SeparableConv2d(\n",
            "        (conv1): Conv2d(728, 728, kernel_size=(3, 3), stride=(1, 1), padding=(1, 1), groups=728, bias=False)\n",
            "        (pointwise): Conv2d(728, 728, kernel_size=(1, 1), stride=(1, 1), bias=False)\n",
            "      )\n",
            "      (5): BatchNorm2d(728, eps=1e-05, momentum=0.1, affine=True, track_running_stats=True)\n",
            "      (6): MaxPool2d(kernel_size=3, stride=2, padding=1, dilation=1, ceil_mode=False)\n",
            "    )\n",
            "  )\n",
            "  (block4): Block(\n",
            "    (rep): Sequential(\n",
            "      (0): ReLU()\n",
            "      (1): SeparableConv2d(\n",
            "        (conv1): Conv2d(728, 728, kernel_size=(3, 3), stride=(1, 1), padding=(1, 1), groups=728, bias=False)\n",
            "        (pointwise): Conv2d(728, 728, kernel_size=(1, 1), stride=(1, 1), bias=False)\n",
            "      )\n",
            "      (2): BatchNorm2d(728, eps=1e-05, momentum=0.1, affine=True, track_running_stats=True)\n",
            "      (3): ReLU(inplace=True)\n",
            "      (4): SeparableConv2d(\n",
            "        (conv1): Conv2d(728, 728, kernel_size=(3, 3), stride=(1, 1), padding=(1, 1), groups=728, bias=False)\n",
            "        (pointwise): Conv2d(728, 728, kernel_size=(1, 1), stride=(1, 1), bias=False)\n",
            "      )\n",
            "      (5): BatchNorm2d(728, eps=1e-05, momentum=0.1, affine=True, track_running_stats=True)\n",
            "      (6): ReLU(inplace=True)\n",
            "      (7): SeparableConv2d(\n",
            "        (conv1): Conv2d(728, 728, kernel_size=(3, 3), stride=(1, 1), padding=(1, 1), groups=728, bias=False)\n",
            "        (pointwise): Conv2d(728, 728, kernel_size=(1, 1), stride=(1, 1), bias=False)\n",
            "      )\n",
            "      (8): BatchNorm2d(728, eps=1e-05, momentum=0.1, affine=True, track_running_stats=True)\n",
            "    )\n",
            "  )\n",
            "  (block5): Block(\n",
            "    (rep): Sequential(\n",
            "      (0): ReLU()\n",
            "      (1): SeparableConv2d(\n",
            "        (conv1): Conv2d(728, 728, kernel_size=(3, 3), stride=(1, 1), padding=(1, 1), groups=728, bias=False)\n",
            "        (pointwise): Conv2d(728, 728, kernel_size=(1, 1), stride=(1, 1), bias=False)\n",
            "      )\n",
            "      (2): BatchNorm2d(728, eps=1e-05, momentum=0.1, affine=True, track_running_stats=True)\n",
            "      (3): ReLU(inplace=True)\n",
            "      (4): SeparableConv2d(\n",
            "        (conv1): Conv2d(728, 728, kernel_size=(3, 3), stride=(1, 1), padding=(1, 1), groups=728, bias=False)\n",
            "        (pointwise): Conv2d(728, 728, kernel_size=(1, 1), stride=(1, 1), bias=False)\n",
            "      )\n",
            "      (5): BatchNorm2d(728, eps=1e-05, momentum=0.1, affine=True, track_running_stats=True)\n",
            "      (6): ReLU(inplace=True)\n",
            "      (7): SeparableConv2d(\n",
            "        (conv1): Conv2d(728, 728, kernel_size=(3, 3), stride=(1, 1), padding=(1, 1), groups=728, bias=False)\n",
            "        (pointwise): Conv2d(728, 728, kernel_size=(1, 1), stride=(1, 1), bias=False)\n",
            "      )\n",
            "      (8): BatchNorm2d(728, eps=1e-05, momentum=0.1, affine=True, track_running_stats=True)\n",
            "    )\n",
            "  )\n",
            "  (block6): Block(\n",
            "    (rep): Sequential(\n",
            "      (0): ReLU()\n",
            "      (1): SeparableConv2d(\n",
            "        (conv1): Conv2d(728, 728, kernel_size=(3, 3), stride=(1, 1), padding=(1, 1), groups=728, bias=False)\n",
            "        (pointwise): Conv2d(728, 728, kernel_size=(1, 1), stride=(1, 1), bias=False)\n",
            "      )\n",
            "      (2): BatchNorm2d(728, eps=1e-05, momentum=0.1, affine=True, track_running_stats=True)\n",
            "      (3): ReLU(inplace=True)\n",
            "      (4): SeparableConv2d(\n",
            "        (conv1): Conv2d(728, 728, kernel_size=(3, 3), stride=(1, 1), padding=(1, 1), groups=728, bias=False)\n",
            "        (pointwise): Conv2d(728, 728, kernel_size=(1, 1), stride=(1, 1), bias=False)\n",
            "      )\n",
            "      (5): BatchNorm2d(728, eps=1e-05, momentum=0.1, affine=True, track_running_stats=True)\n",
            "      (6): ReLU(inplace=True)\n",
            "      (7): SeparableConv2d(\n",
            "        (conv1): Conv2d(728, 728, kernel_size=(3, 3), stride=(1, 1), padding=(1, 1), groups=728, bias=False)\n",
            "        (pointwise): Conv2d(728, 728, kernel_size=(1, 1), stride=(1, 1), bias=False)\n",
            "      )\n",
            "      (8): BatchNorm2d(728, eps=1e-05, momentum=0.1, affine=True, track_running_stats=True)\n",
            "    )\n",
            "  )\n",
            "  (block7): Block(\n",
            "    (rep): Sequential(\n",
            "      (0): ReLU()\n",
            "      (1): SeparableConv2d(\n",
            "        (conv1): Conv2d(728, 728, kernel_size=(3, 3), stride=(1, 1), padding=(1, 1), groups=728, bias=False)\n",
            "        (pointwise): Conv2d(728, 728, kernel_size=(1, 1), stride=(1, 1), bias=False)\n",
            "      )\n",
            "      (2): BatchNorm2d(728, eps=1e-05, momentum=0.1, affine=True, track_running_stats=True)\n",
            "      (3): ReLU(inplace=True)\n",
            "      (4): SeparableConv2d(\n",
            "        (conv1): Conv2d(728, 728, kernel_size=(3, 3), stride=(1, 1), padding=(1, 1), groups=728, bias=False)\n",
            "        (pointwise): Conv2d(728, 728, kernel_size=(1, 1), stride=(1, 1), bias=False)\n",
            "      )\n",
            "      (5): BatchNorm2d(728, eps=1e-05, momentum=0.1, affine=True, track_running_stats=True)\n",
            "      (6): ReLU(inplace=True)\n",
            "      (7): SeparableConv2d(\n",
            "        (conv1): Conv2d(728, 728, kernel_size=(3, 3), stride=(1, 1), padding=(1, 1), groups=728, bias=False)\n",
            "        (pointwise): Conv2d(728, 728, kernel_size=(1, 1), stride=(1, 1), bias=False)\n",
            "      )\n",
            "      (8): BatchNorm2d(728, eps=1e-05, momentum=0.1, affine=True, track_running_stats=True)\n",
            "    )\n",
            "  )\n",
            "  (block8): Block(\n",
            "    (rep): Sequential(\n",
            "      (0): ReLU()\n",
            "      (1): SeparableConv2d(\n",
            "        (conv1): Conv2d(728, 728, kernel_size=(3, 3), stride=(1, 1), padding=(1, 1), groups=728, bias=False)\n",
            "        (pointwise): Conv2d(728, 728, kernel_size=(1, 1), stride=(1, 1), bias=False)\n",
            "      )\n",
            "      (2): BatchNorm2d(728, eps=1e-05, momentum=0.1, affine=True, track_running_stats=True)\n",
            "      (3): ReLU(inplace=True)\n",
            "      (4): SeparableConv2d(\n",
            "        (conv1): Conv2d(728, 728, kernel_size=(3, 3), stride=(1, 1), padding=(1, 1), groups=728, bias=False)\n",
            "        (pointwise): Conv2d(728, 728, kernel_size=(1, 1), stride=(1, 1), bias=False)\n",
            "      )\n",
            "      (5): BatchNorm2d(728, eps=1e-05, momentum=0.1, affine=True, track_running_stats=True)\n",
            "      (6): ReLU(inplace=True)\n",
            "      (7): SeparableConv2d(\n",
            "        (conv1): Conv2d(728, 728, kernel_size=(3, 3), stride=(1, 1), padding=(1, 1), groups=728, bias=False)\n",
            "        (pointwise): Conv2d(728, 728, kernel_size=(1, 1), stride=(1, 1), bias=False)\n",
            "      )\n",
            "      (8): BatchNorm2d(728, eps=1e-05, momentum=0.1, affine=True, track_running_stats=True)\n",
            "    )\n",
            "  )\n",
            "  (block9): Block(\n",
            "    (rep): Sequential(\n",
            "      (0): ReLU()\n",
            "      (1): SeparableConv2d(\n",
            "        (conv1): Conv2d(728, 728, kernel_size=(3, 3), stride=(1, 1), padding=(1, 1), groups=728, bias=False)\n",
            "        (pointwise): Conv2d(728, 728, kernel_size=(1, 1), stride=(1, 1), bias=False)\n",
            "      )\n",
            "      (2): BatchNorm2d(728, eps=1e-05, momentum=0.1, affine=True, track_running_stats=True)\n",
            "      (3): ReLU(inplace=True)\n",
            "      (4): SeparableConv2d(\n",
            "        (conv1): Conv2d(728, 728, kernel_size=(3, 3), stride=(1, 1), padding=(1, 1), groups=728, bias=False)\n",
            "        (pointwise): Conv2d(728, 728, kernel_size=(1, 1), stride=(1, 1), bias=False)\n",
            "      )\n",
            "      (5): BatchNorm2d(728, eps=1e-05, momentum=0.1, affine=True, track_running_stats=True)\n",
            "      (6): ReLU(inplace=True)\n",
            "      (7): SeparableConv2d(\n",
            "        (conv1): Conv2d(728, 728, kernel_size=(3, 3), stride=(1, 1), padding=(1, 1), groups=728, bias=False)\n",
            "        (pointwise): Conv2d(728, 728, kernel_size=(1, 1), stride=(1, 1), bias=False)\n",
            "      )\n",
            "      (8): BatchNorm2d(728, eps=1e-05, momentum=0.1, affine=True, track_running_stats=True)\n",
            "    )\n",
            "  )\n",
            "  (block10): Block(\n",
            "    (rep): Sequential(\n",
            "      (0): ReLU()\n",
            "      (1): SeparableConv2d(\n",
            "        (conv1): Conv2d(728, 728, kernel_size=(3, 3), stride=(1, 1), padding=(1, 1), groups=728, bias=False)\n",
            "        (pointwise): Conv2d(728, 728, kernel_size=(1, 1), stride=(1, 1), bias=False)\n",
            "      )\n",
            "      (2): BatchNorm2d(728, eps=1e-05, momentum=0.1, affine=True, track_running_stats=True)\n",
            "      (3): ReLU(inplace=True)\n",
            "      (4): SeparableConv2d(\n",
            "        (conv1): Conv2d(728, 728, kernel_size=(3, 3), stride=(1, 1), padding=(1, 1), groups=728, bias=False)\n",
            "        (pointwise): Conv2d(728, 728, kernel_size=(1, 1), stride=(1, 1), bias=False)\n",
            "      )\n",
            "      (5): BatchNorm2d(728, eps=1e-05, momentum=0.1, affine=True, track_running_stats=True)\n",
            "      (6): ReLU(inplace=True)\n",
            "      (7): SeparableConv2d(\n",
            "        (conv1): Conv2d(728, 728, kernel_size=(3, 3), stride=(1, 1), padding=(1, 1), groups=728, bias=False)\n",
            "        (pointwise): Conv2d(728, 728, kernel_size=(1, 1), stride=(1, 1), bias=False)\n",
            "      )\n",
            "      (8): BatchNorm2d(728, eps=1e-05, momentum=0.1, affine=True, track_running_stats=True)\n",
            "    )\n",
            "  )\n",
            "  (block11): Block(\n",
            "    (rep): Sequential(\n",
            "      (0): ReLU()\n",
            "      (1): SeparableConv2d(\n",
            "        (conv1): Conv2d(728, 728, kernel_size=(3, 3), stride=(1, 1), padding=(1, 1), groups=728, bias=False)\n",
            "        (pointwise): Conv2d(728, 728, kernel_size=(1, 1), stride=(1, 1), bias=False)\n",
            "      )\n",
            "      (2): BatchNorm2d(728, eps=1e-05, momentum=0.1, affine=True, track_running_stats=True)\n",
            "      (3): ReLU(inplace=True)\n",
            "      (4): SeparableConv2d(\n",
            "        (conv1): Conv2d(728, 728, kernel_size=(3, 3), stride=(1, 1), padding=(1, 1), groups=728, bias=False)\n",
            "        (pointwise): Conv2d(728, 728, kernel_size=(1, 1), stride=(1, 1), bias=False)\n",
            "      )\n",
            "      (5): BatchNorm2d(728, eps=1e-05, momentum=0.1, affine=True, track_running_stats=True)\n",
            "      (6): ReLU(inplace=True)\n",
            "      (7): SeparableConv2d(\n",
            "        (conv1): Conv2d(728, 728, kernel_size=(3, 3), stride=(1, 1), padding=(1, 1), groups=728, bias=False)\n",
            "        (pointwise): Conv2d(728, 728, kernel_size=(1, 1), stride=(1, 1), bias=False)\n",
            "      )\n",
            "      (8): BatchNorm2d(728, eps=1e-05, momentum=0.1, affine=True, track_running_stats=True)\n",
            "    )\n",
            "  )\n",
            "  (block12): Block(\n",
            "    (skip): Conv2d(728, 1024, kernel_size=(1, 1), stride=(2, 2), bias=False)\n",
            "    (skipbn): BatchNorm2d(1024, eps=1e-05, momentum=0.1, affine=True, track_running_stats=True)\n",
            "    (rep): Sequential(\n",
            "      (0): ReLU()\n",
            "      (1): SeparableConv2d(\n",
            "        (conv1): Conv2d(728, 728, kernel_size=(3, 3), stride=(1, 1), padding=(1, 1), groups=728, bias=False)\n",
            "        (pointwise): Conv2d(728, 728, kernel_size=(1, 1), stride=(1, 1), bias=False)\n",
            "      )\n",
            "      (2): BatchNorm2d(728, eps=1e-05, momentum=0.1, affine=True, track_running_stats=True)\n",
            "      (3): ReLU(inplace=True)\n",
            "      (4): SeparableConv2d(\n",
            "        (conv1): Conv2d(728, 728, kernel_size=(3, 3), stride=(1, 1), padding=(1, 1), groups=728, bias=False)\n",
            "        (pointwise): Conv2d(728, 1024, kernel_size=(1, 1), stride=(1, 1), bias=False)\n",
            "      )\n",
            "      (5): BatchNorm2d(1024, eps=1e-05, momentum=0.1, affine=True, track_running_stats=True)\n",
            "      (6): MaxPool2d(kernel_size=3, stride=2, padding=1, dilation=1, ceil_mode=False)\n",
            "    )\n",
            "  )\n",
            "  (conv3): SeparableConv2d(\n",
            "    (conv1): Conv2d(1024, 1024, kernel_size=(3, 3), stride=(1, 1), padding=(1, 1), groups=1024, bias=False)\n",
            "    (pointwise): Conv2d(1024, 1536, kernel_size=(1, 1), stride=(1, 1), bias=False)\n",
            "  )\n",
            "  (bn3): BatchNorm2d(1536, eps=1e-05, momentum=0.1, affine=True, track_running_stats=True)\n",
            "  (act3): ReLU(inplace=True)\n",
            "  (conv4): SeparableConv2d(\n",
            "    (conv1): Conv2d(1536, 1536, kernel_size=(3, 3), stride=(1, 1), padding=(1, 1), groups=1536, bias=False)\n",
            "    (pointwise): Conv2d(1536, 2048, kernel_size=(1, 1), stride=(1, 1), bias=False)\n",
            "  )\n",
            "  (bn4): BatchNorm2d(2048, eps=1e-05, momentum=0.1, affine=True, track_running_stats=True)\n",
            "  (act4): ReLU(inplace=True)\n",
            "  (global_pool): SelectAdaptivePool2d(pool_type=avg, flatten=Flatten(start_dim=1, end_dim=-1))\n",
            "  (fc): Linear(in_features=2048, out_features=2, bias=True)\n",
            ")\n"
          ]
        }
      ]
    },
    {
      "cell_type": "markdown",
      "source": [
        "# **TRAINING**"
      ],
      "metadata": {
        "id": "gvRapK22Qq62"
      }
    },
    {
      "cell_type": "code",
      "source": [
        "class Config:\n",
        "    learning_rate = 1e-4\n",
        "    epochs = 10"
      ],
      "metadata": {
        "execution": {
          "iopub.status.busy": "2024-07-17T05:45:07.120433Z",
          "iopub.execute_input": "2024-07-17T05:45:07.121371Z",
          "iopub.status.idle": "2024-07-17T05:45:07.128377Z",
          "shell.execute_reply.started": "2024-07-17T05:45:07.121322Z",
          "shell.execute_reply": "2024-07-17T05:45:07.126872Z"
        },
        "trusted": true,
        "id": "XRWAMWmzQq62"
      },
      "execution_count": 44,
      "outputs": []
    },
    {
      "cell_type": "code",
      "source": [
        "device = torch.device(\"cuda\" if torch.cuda.is_available() else \"cpu\")"
      ],
      "metadata": {
        "execution": {
          "iopub.status.busy": "2024-07-17T05:45:11.981216Z",
          "iopub.execute_input": "2024-07-17T05:45:11.981791Z",
          "iopub.status.idle": "2024-07-17T05:45:11.988097Z",
          "shell.execute_reply.started": "2024-07-17T05:45:11.981745Z",
          "shell.execute_reply": "2024-07-17T05:45:11.986676Z"
        },
        "trusted": true,
        "id": "LvUSsU2mQq63"
      },
      "execution_count": 45,
      "outputs": []
    },
    {
      "cell_type": "code",
      "source": [
        "class Trainer:\n",
        "    def __init__(self, model, dataloaders, Config, device):\n",
        "        self.device = device\n",
        "        self.Config = Config\n",
        "        self.model = model.to(self.device)\n",
        "        self.train, self.test = dataloaders\n",
        "        self.optim = torch.optim.Adam(self.model.parameters(), lr=self.Config.learning_rate)\n",
        "        self.loss_fn = nn.CrossEntropyLoss()\n",
        "\n",
        "    def accuracy(self, outputs, labels):\n",
        "        _, preds = torch.max(outputs, 1)\n",
        "        return (preds == labels).sum().item() / labels.shape[0]\n",
        "\n",
        "    def train_one_epoch(self):\n",
        "        running_loss = 0\n",
        "        running_acc = 0\n",
        "\n",
        "        for X, y in self.train:\n",
        "            X = X.to(self.device, dtype=torch.float)\n",
        "            y = y.to(self.device, dtype=torch.long)\n",
        "\n",
        "            self.optim.zero_grad()\n",
        "            outputs = self.model(X)\n",
        "\n",
        "            loss = self.loss_fn(outputs, y)\n",
        "            loss.backward()\n",
        "            self.optim.step()\n",
        "\n",
        "            running_loss += loss.item()\n",
        "            running_acc += self.accuracy(outputs, y)\n",
        "\n",
        "            del X\n",
        "            del y\n",
        "            gc.collect()\n",
        "            torch.cuda.empty_cache()\n",
        "\n",
        "        train_loss = running_loss / len(self.train)\n",
        "        train_acc = running_acc / len(self.train)\n",
        "\n",
        "        return train_loss, train_acc\n",
        "\n",
        "    def fit(self):\n",
        "        losses = []\n",
        "        accuracies = []\n",
        "\n",
        "\n",
        "        for epoch in range(self.Config.epochs):\n",
        "            self.model.train()\n",
        "            train_loss, train_acc = self.train_one_epoch()\n",
        "            losses.append(train_loss)\n",
        "            accuracies.append(train_acc)\n",
        "            print(f\"EPOCH {epoch+1}/{self.Config.epochs}\")\n",
        "            print(f\"Training Loss: {train_loss} | Training Accuracy: {train_acc}\\n\\n\")\n",
        "\n",
        "    @torch.no_grad()\n",
        "    def inference(self):\n",
        "        self.model.eval()\n",
        "        running_acc = 0\n",
        "\n",
        "        for X, y in self.test:\n",
        "            X = X.to(self.device, dtype=torch.float)\n",
        "            y = y.to(self.device, dtype=torch.long)\n",
        "            outputs = self.model(X)\n",
        "            running_acc += self.accuracy(outputs, y)\n",
        "\n",
        "            del X\n",
        "            del y\n",
        "            gc.collect()\n",
        "            torch.cuda.empty_cache()\n",
        "\n",
        "        accuracy = (running_acc / len(self.test)) * 100\n",
        "        return accuracy\n",
        "\n",
        "    def predict(self, input_image):\n",
        "        self.model.eval()\n",
        "        input_image = input_image.to(self.device, torch.float)\n",
        "        output = self.model(input_image)\n",
        "\n",
        "        _, predicted_class = torch.max(output, 1)\n",
        "        return predicted_class.item()"
      ],
      "metadata": {
        "execution": {
          "iopub.status.busy": "2024-07-17T05:49:01.346266Z",
          "iopub.execute_input": "2024-07-17T05:49:01.347181Z",
          "iopub.status.idle": "2024-07-17T05:49:01.369018Z",
          "shell.execute_reply.started": "2024-07-17T05:49:01.347138Z",
          "shell.execute_reply": "2024-07-17T05:49:01.367702Z"
        },
        "trusted": true,
        "id": "kZwFg2KkQq63"
      },
      "execution_count": 46,
      "outputs": []
    },
    {
      "cell_type": "code",
      "source": [
        "trainer = Trainer(model, (train_loader, test_loader), Config, device)\n",
        "trainer.fit()"
      ],
      "metadata": {
        "execution": {
          "iopub.status.busy": "2024-07-17T05:49:04.087006Z",
          "iopub.execute_input": "2024-07-17T05:49:04.08748Z",
          "iopub.status.idle": "2024-07-17T05:54:38.5771Z",
          "shell.execute_reply.started": "2024-07-17T05:49:04.087441Z",
          "shell.execute_reply": "2024-07-17T05:54:38.575056Z"
        },
        "trusted": true,
        "id": "iFfUR5fhQq64",
        "outputId": "17b16fd7-dbb8-4932-83d2-e3b28d92293c",
        "colab": {
          "base_uri": "https://localhost:8080/",
          "height": 681
        }
      },
      "execution_count": null,
      "outputs": [
        {
          "output_type": "stream",
          "name": "stdout",
          "text": [
            "EPOCH 1/10\n",
            "Training Loss: 0.03877831992018881 | Training Accuracy: 0.9863842439943477\n",
            "\n",
            "\n",
            "EPOCH 2/10\n",
            "Training Loss: 0.02402715791904518 | Training Accuracy: 0.9913595148374941\n",
            "\n",
            "\n",
            "EPOCH 3/10\n",
            "Training Loss: 0.017548402169506847 | Training Accuracy: 0.9936116344795102\n",
            "\n",
            "\n",
            "EPOCH 4/10\n",
            "Training Loss: 0.01280322120660417 | Training Accuracy: 0.9954516015073009\n",
            "\n",
            "\n",
            "EPOCH 5/10\n",
            "Training Loss: 0.008814311389534963 | Training Accuracy: 0.9967763777673104\n",
            "\n",
            "\n"
          ]
        },
        {
          "output_type": "error",
          "ename": "KeyboardInterrupt",
          "evalue": "",
          "traceback": [
            "\u001b[0;31m---------------------------------------------------------------------------\u001b[0m",
            "\u001b[0;31mKeyboardInterrupt\u001b[0m                         Traceback (most recent call last)",
            "\u001b[0;32m<ipython-input-74-24831478ec37>\u001b[0m in \u001b[0;36m<cell line: 2>\u001b[0;34m()\u001b[0m\n\u001b[1;32m      1\u001b[0m \u001b[0mtrainer\u001b[0m \u001b[0;34m=\u001b[0m \u001b[0mTrainer\u001b[0m\u001b[0;34m(\u001b[0m\u001b[0mmodel\u001b[0m\u001b[0;34m,\u001b[0m \u001b[0;34m(\u001b[0m\u001b[0mtrain_loader\u001b[0m\u001b[0;34m,\u001b[0m \u001b[0mtest_loader\u001b[0m\u001b[0;34m)\u001b[0m\u001b[0;34m,\u001b[0m \u001b[0mConfig\u001b[0m\u001b[0;34m,\u001b[0m \u001b[0mdevice\u001b[0m\u001b[0;34m)\u001b[0m\u001b[0;34m\u001b[0m\u001b[0;34m\u001b[0m\u001b[0m\n\u001b[0;32m----> 2\u001b[0;31m \u001b[0mtrainer\u001b[0m\u001b[0;34m.\u001b[0m\u001b[0mfit\u001b[0m\u001b[0;34m(\u001b[0m\u001b[0;34m)\u001b[0m\u001b[0;34m\u001b[0m\u001b[0;34m\u001b[0m\u001b[0m\n\u001b[0m",
            "\u001b[0;32m<ipython-input-73-f57fedc07a0b>\u001b[0m in \u001b[0;36mfit\u001b[0;34m(self)\u001b[0m\n\u001b[1;32m     47\u001b[0m         \u001b[0;32mfor\u001b[0m \u001b[0mepoch\u001b[0m \u001b[0;32min\u001b[0m \u001b[0mrange\u001b[0m\u001b[0;34m(\u001b[0m\u001b[0mself\u001b[0m\u001b[0;34m.\u001b[0m\u001b[0mConfig\u001b[0m\u001b[0;34m.\u001b[0m\u001b[0mepochs\u001b[0m\u001b[0;34m)\u001b[0m\u001b[0;34m:\u001b[0m\u001b[0;34m\u001b[0m\u001b[0;34m\u001b[0m\u001b[0m\n\u001b[1;32m     48\u001b[0m             \u001b[0mself\u001b[0m\u001b[0;34m.\u001b[0m\u001b[0mmodel\u001b[0m\u001b[0;34m.\u001b[0m\u001b[0mtrain\u001b[0m\u001b[0;34m(\u001b[0m\u001b[0;34m)\u001b[0m\u001b[0;34m\u001b[0m\u001b[0;34m\u001b[0m\u001b[0m\n\u001b[0;32m---> 49\u001b[0;31m             \u001b[0mtrain_loss\u001b[0m\u001b[0;34m,\u001b[0m \u001b[0mtrain_acc\u001b[0m \u001b[0;34m=\u001b[0m \u001b[0mself\u001b[0m\u001b[0;34m.\u001b[0m\u001b[0mtrain_one_epoch\u001b[0m\u001b[0;34m(\u001b[0m\u001b[0;34m)\u001b[0m\u001b[0;34m\u001b[0m\u001b[0;34m\u001b[0m\u001b[0m\n\u001b[0m\u001b[1;32m     50\u001b[0m             \u001b[0mlosses\u001b[0m\u001b[0;34m.\u001b[0m\u001b[0mappend\u001b[0m\u001b[0;34m(\u001b[0m\u001b[0mtrain_loss\u001b[0m\u001b[0;34m)\u001b[0m\u001b[0;34m\u001b[0m\u001b[0;34m\u001b[0m\u001b[0m\n\u001b[1;32m     51\u001b[0m             \u001b[0maccuracies\u001b[0m\u001b[0;34m.\u001b[0m\u001b[0mappend\u001b[0m\u001b[0;34m(\u001b[0m\u001b[0mtrain_acc\u001b[0m\u001b[0;34m)\u001b[0m\u001b[0;34m\u001b[0m\u001b[0;34m\u001b[0m\u001b[0m\n",
            "\u001b[0;32m<ipython-input-73-f57fedc07a0b>\u001b[0m in \u001b[0;36mtrain_one_epoch\u001b[0;34m(self)\u001b[0m\n\u001b[1;32m     32\u001b[0m             \u001b[0;32mdel\u001b[0m \u001b[0mX\u001b[0m\u001b[0;34m\u001b[0m\u001b[0;34m\u001b[0m\u001b[0m\n\u001b[1;32m     33\u001b[0m             \u001b[0;32mdel\u001b[0m \u001b[0my\u001b[0m\u001b[0;34m\u001b[0m\u001b[0;34m\u001b[0m\u001b[0m\n\u001b[0;32m---> 34\u001b[0;31m             \u001b[0mgc\u001b[0m\u001b[0;34m.\u001b[0m\u001b[0mcollect\u001b[0m\u001b[0;34m(\u001b[0m\u001b[0;34m)\u001b[0m\u001b[0;34m\u001b[0m\u001b[0;34m\u001b[0m\u001b[0m\n\u001b[0m\u001b[1;32m     35\u001b[0m             \u001b[0mtorch\u001b[0m\u001b[0;34m.\u001b[0m\u001b[0mcuda\u001b[0m\u001b[0;34m.\u001b[0m\u001b[0mempty_cache\u001b[0m\u001b[0;34m(\u001b[0m\u001b[0;34m)\u001b[0m\u001b[0;34m\u001b[0m\u001b[0;34m\u001b[0m\u001b[0m\n\u001b[1;32m     36\u001b[0m \u001b[0;34m\u001b[0m\u001b[0m\n",
            "\u001b[0;31mKeyboardInterrupt\u001b[0m: "
          ]
        }
      ]
    },
    {
      "cell_type": "code",
      "source": [
        "torch.save(model.state_dict(), '/content/drive/MyDrive/Drowsymodel.pth')\n",
        "print(\"Model saved successfully!!\")"
      ],
      "metadata": {
        "colab": {
          "base_uri": "https://localhost:8080/"
        },
        "id": "nPejF3AGq-ip",
        "outputId": "1598eddd-76ff-473f-8732-f4c02a108de7"
      },
      "execution_count": null,
      "outputs": [
        {
          "output_type": "stream",
          "name": "stdout",
          "text": [
            "Model saved successfully!!\n"
          ]
        }
      ]
    },
    {
      "cell_type": "markdown",
      "source": [
        "# **TESTING**"
      ],
      "metadata": {
        "id": "j7rIHE0v6f9k"
      }
    },
    {
      "cell_type": "code",
      "source": [
        "model.load_state_dict(torch.load('/kaggle/input/drowsy-model/pytorch/drowsy-model/1/Drowsymodel.pth',map_location=torch.device('cpu')))\n",
        "print(\"Model loaded successfully!!\")"
      ],
      "metadata": {
        "colab": {
          "base_uri": "https://localhost:8080/"
        },
        "id": "fjQsVK7Z7CII",
        "outputId": "d4917fad-63bc-4e2b-bc7b-46118d8dc96e"
      },
      "execution_count": 47,
      "outputs": [
        {
          "output_type": "stream",
          "name": "stdout",
          "text": [
            "Model loaded successfully!!\n"
          ]
        }
      ]
    },
    {
      "cell_type": "code",
      "source": [
        "trainer = Trainer(model, (train_loader, test_loader), Config, device)"
      ],
      "metadata": {
        "id": "Bpu5r2jW7AMX"
      },
      "execution_count": 48,
      "outputs": []
    },
    {
      "cell_type": "code",
      "source": [
        "trainer.inference()"
      ],
      "metadata": {
        "colab": {
          "base_uri": "https://localhost:8080/"
        },
        "id": "uNsLkAi8lWFi",
        "outputId": "4226039a-2883-4113-f30a-1394b100d04b"
      },
      "execution_count": 49,
      "outputs": [
        {
          "output_type": "execute_result",
          "data": {
            "text/plain": [
              "99.7316384180791"
            ]
          },
          "metadata": {},
          "execution_count": 49
        }
      ]
    },
    {
      "cell_type": "code",
      "source": [
        "import seaborn as sns\n",
        "from sklearn.metrics import classification_report, confusion_matrix, roc_curve, auc\n",
        "\n",
        "@torch.no_grad()\n",
        "def calculate_test_metrics(model, test_loader, device, classes):\n",
        "    model.eval()\n",
        "    y_true = []\n",
        "    y_pred = []\n",
        "    y_pred_proba = []\n",
        "\n",
        "    for inputs, labels in test_loader:\n",
        "        inputs = inputs.to(device)\n",
        "        labels = labels.to(device)\n",
        "\n",
        "        outputs = model(inputs)\n",
        "        _, preds = torch.max(outputs, 1)\n",
        "\n",
        "        y_true.extend(labels.cpu().numpy())\n",
        "        y_pred.extend(preds.cpu().numpy())\n",
        "        y_pred_proba.append(torch.softmax(outputs, dim=1).cpu().numpy())  # Append instead of extend\n",
        "\n",
        "        del inputs, labels\n",
        "        torch.cuda.empty_cache()\n",
        "\n",
        "    y_pred_proba = np.concatenate(y_pred_proba, axis=0)  # Convert list of arrays to a single numpy array\n",
        "\n",
        "    print(\"Classification Report:\")\n",
        "    print(classification_report(y_true, np.argmax(y_pred_proba, axis=1), target_names=classes))\n",
        "\n",
        "    print(\"Confusion Matrix:\")\n",
        "    plot_confusion_matrix(y_true, np.argmax(y_pred_proba, axis=1), classes)\n",
        "\n",
        "    print(\"ROC Curve:\")\n",
        "    plot_roc_curve(y_true, y_pred_proba, len(classes))\n",
        "\n",
        "def plot_confusion_matrix(y_true, y_pred, classes):\n",
        "    cm = confusion_matrix(y_true, y_pred)\n",
        "    plt.figure(figsize=(10, 7))\n",
        "    sns.heatmap(cm, annot=True, fmt='d', cmap='Blues', xticklabels=classes, yticklabels=classes)\n",
        "    plt.xlabel('Predicted')\n",
        "    plt.ylabel('True')\n",
        "    plt.title('Confusion Matrix')\n",
        "    plt.show()\n",
        "\n",
        "def plot_roc_curve(y_true, y_pred_proba, n_classes):\n",
        "    fpr = {}\n",
        "    tpr = {}\n",
        "    roc_auc = {}\n",
        "\n",
        "    # Convert y_true to binary matrix\n",
        "    y_true_binary = np.eye(n_classes)[y_true]\n",
        "\n",
        "    for i in range(n_classes):\n",
        "        fpr[i], tpr[i], _ = roc_curve(y_true_binary[:, i], y_pred_proba[:, i])\n",
        "        roc_auc[i] = auc(fpr[i], tpr[i])\n",
        "\n",
        "    plt.figure()\n",
        "    for i in range(n_classes):\n",
        "        plt.plot(fpr[i], tpr[i], label=f'Class {i} (area = {roc_auc[i]:.2f})')\n",
        "\n",
        "    plt.plot([0, 1], [0, 1], 'k--')\n",
        "    plt.xlim([0.0, 1.0])\n",
        "    plt.ylim([0.0, 1.05])\n",
        "    plt.xlabel('False Positive Rate')\n",
        "    plt.ylabel('True Positive Rate')\n",
        "    plt.title('Receiver Operating Characteristic')\n",
        "    plt.legend(loc='lower right')\n",
        "    plt.show()"
      ],
      "metadata": {
        "id": "Nu45UgwBhBE3"
      },
      "execution_count": 50,
      "outputs": []
    },
    {
      "cell_type": "code",
      "source": [
        "model.eval()"
      ],
      "metadata": {
        "colab": {
          "base_uri": "https://localhost:8080/"
        },
        "id": "ugmNtFmGhb1I",
        "outputId": "328cbd68-f42c-4ae3-e3a3-55644cb0e486"
      },
      "execution_count": 51,
      "outputs": [
        {
          "output_type": "execute_result",
          "data": {
            "text/plain": [
              "Xception(\n",
              "  (conv1): Conv2d(3, 32, kernel_size=(3, 3), stride=(2, 2), bias=False)\n",
              "  (bn1): BatchNorm2d(32, eps=1e-05, momentum=0.1, affine=True, track_running_stats=True)\n",
              "  (act1): ReLU(inplace=True)\n",
              "  (conv2): Conv2d(32, 64, kernel_size=(3, 3), stride=(1, 1), bias=False)\n",
              "  (bn2): BatchNorm2d(64, eps=1e-05, momentum=0.1, affine=True, track_running_stats=True)\n",
              "  (act2): ReLU(inplace=True)\n",
              "  (block1): Block(\n",
              "    (skip): Conv2d(64, 128, kernel_size=(1, 1), stride=(2, 2), bias=False)\n",
              "    (skipbn): BatchNorm2d(128, eps=1e-05, momentum=0.1, affine=True, track_running_stats=True)\n",
              "    (rep): Sequential(\n",
              "      (0): SeparableConv2d(\n",
              "        (conv1): Conv2d(64, 64, kernel_size=(3, 3), stride=(1, 1), padding=(1, 1), groups=64, bias=False)\n",
              "        (pointwise): Conv2d(64, 128, kernel_size=(1, 1), stride=(1, 1), bias=False)\n",
              "      )\n",
              "      (1): BatchNorm2d(128, eps=1e-05, momentum=0.1, affine=True, track_running_stats=True)\n",
              "      (2): ReLU(inplace=True)\n",
              "      (3): SeparableConv2d(\n",
              "        (conv1): Conv2d(128, 128, kernel_size=(3, 3), stride=(1, 1), padding=(1, 1), groups=128, bias=False)\n",
              "        (pointwise): Conv2d(128, 128, kernel_size=(1, 1), stride=(1, 1), bias=False)\n",
              "      )\n",
              "      (4): BatchNorm2d(128, eps=1e-05, momentum=0.1, affine=True, track_running_stats=True)\n",
              "      (5): MaxPool2d(kernel_size=3, stride=2, padding=1, dilation=1, ceil_mode=False)\n",
              "    )\n",
              "  )\n",
              "  (block2): Block(\n",
              "    (skip): Conv2d(128, 256, kernel_size=(1, 1), stride=(2, 2), bias=False)\n",
              "    (skipbn): BatchNorm2d(256, eps=1e-05, momentum=0.1, affine=True, track_running_stats=True)\n",
              "    (rep): Sequential(\n",
              "      (0): ReLU()\n",
              "      (1): SeparableConv2d(\n",
              "        (conv1): Conv2d(128, 128, kernel_size=(3, 3), stride=(1, 1), padding=(1, 1), groups=128, bias=False)\n",
              "        (pointwise): Conv2d(128, 256, kernel_size=(1, 1), stride=(1, 1), bias=False)\n",
              "      )\n",
              "      (2): BatchNorm2d(256, eps=1e-05, momentum=0.1, affine=True, track_running_stats=True)\n",
              "      (3): ReLU(inplace=True)\n",
              "      (4): SeparableConv2d(\n",
              "        (conv1): Conv2d(256, 256, kernel_size=(3, 3), stride=(1, 1), padding=(1, 1), groups=256, bias=False)\n",
              "        (pointwise): Conv2d(256, 256, kernel_size=(1, 1), stride=(1, 1), bias=False)\n",
              "      )\n",
              "      (5): BatchNorm2d(256, eps=1e-05, momentum=0.1, affine=True, track_running_stats=True)\n",
              "      (6): MaxPool2d(kernel_size=3, stride=2, padding=1, dilation=1, ceil_mode=False)\n",
              "    )\n",
              "  )\n",
              "  (block3): Block(\n",
              "    (skip): Conv2d(256, 728, kernel_size=(1, 1), stride=(2, 2), bias=False)\n",
              "    (skipbn): BatchNorm2d(728, eps=1e-05, momentum=0.1, affine=True, track_running_stats=True)\n",
              "    (rep): Sequential(\n",
              "      (0): ReLU()\n",
              "      (1): SeparableConv2d(\n",
              "        (conv1): Conv2d(256, 256, kernel_size=(3, 3), stride=(1, 1), padding=(1, 1), groups=256, bias=False)\n",
              "        (pointwise): Conv2d(256, 728, kernel_size=(1, 1), stride=(1, 1), bias=False)\n",
              "      )\n",
              "      (2): BatchNorm2d(728, eps=1e-05, momentum=0.1, affine=True, track_running_stats=True)\n",
              "      (3): ReLU(inplace=True)\n",
              "      (4): SeparableConv2d(\n",
              "        (conv1): Conv2d(728, 728, kernel_size=(3, 3), stride=(1, 1), padding=(1, 1), groups=728, bias=False)\n",
              "        (pointwise): Conv2d(728, 728, kernel_size=(1, 1), stride=(1, 1), bias=False)\n",
              "      )\n",
              "      (5): BatchNorm2d(728, eps=1e-05, momentum=0.1, affine=True, track_running_stats=True)\n",
              "      (6): MaxPool2d(kernel_size=3, stride=2, padding=1, dilation=1, ceil_mode=False)\n",
              "    )\n",
              "  )\n",
              "  (block4): Block(\n",
              "    (rep): Sequential(\n",
              "      (0): ReLU()\n",
              "      (1): SeparableConv2d(\n",
              "        (conv1): Conv2d(728, 728, kernel_size=(3, 3), stride=(1, 1), padding=(1, 1), groups=728, bias=False)\n",
              "        (pointwise): Conv2d(728, 728, kernel_size=(1, 1), stride=(1, 1), bias=False)\n",
              "      )\n",
              "      (2): BatchNorm2d(728, eps=1e-05, momentum=0.1, affine=True, track_running_stats=True)\n",
              "      (3): ReLU(inplace=True)\n",
              "      (4): SeparableConv2d(\n",
              "        (conv1): Conv2d(728, 728, kernel_size=(3, 3), stride=(1, 1), padding=(1, 1), groups=728, bias=False)\n",
              "        (pointwise): Conv2d(728, 728, kernel_size=(1, 1), stride=(1, 1), bias=False)\n",
              "      )\n",
              "      (5): BatchNorm2d(728, eps=1e-05, momentum=0.1, affine=True, track_running_stats=True)\n",
              "      (6): ReLU(inplace=True)\n",
              "      (7): SeparableConv2d(\n",
              "        (conv1): Conv2d(728, 728, kernel_size=(3, 3), stride=(1, 1), padding=(1, 1), groups=728, bias=False)\n",
              "        (pointwise): Conv2d(728, 728, kernel_size=(1, 1), stride=(1, 1), bias=False)\n",
              "      )\n",
              "      (8): BatchNorm2d(728, eps=1e-05, momentum=0.1, affine=True, track_running_stats=True)\n",
              "    )\n",
              "  )\n",
              "  (block5): Block(\n",
              "    (rep): Sequential(\n",
              "      (0): ReLU()\n",
              "      (1): SeparableConv2d(\n",
              "        (conv1): Conv2d(728, 728, kernel_size=(3, 3), stride=(1, 1), padding=(1, 1), groups=728, bias=False)\n",
              "        (pointwise): Conv2d(728, 728, kernel_size=(1, 1), stride=(1, 1), bias=False)\n",
              "      )\n",
              "      (2): BatchNorm2d(728, eps=1e-05, momentum=0.1, affine=True, track_running_stats=True)\n",
              "      (3): ReLU(inplace=True)\n",
              "      (4): SeparableConv2d(\n",
              "        (conv1): Conv2d(728, 728, kernel_size=(3, 3), stride=(1, 1), padding=(1, 1), groups=728, bias=False)\n",
              "        (pointwise): Conv2d(728, 728, kernel_size=(1, 1), stride=(1, 1), bias=False)\n",
              "      )\n",
              "      (5): BatchNorm2d(728, eps=1e-05, momentum=0.1, affine=True, track_running_stats=True)\n",
              "      (6): ReLU(inplace=True)\n",
              "      (7): SeparableConv2d(\n",
              "        (conv1): Conv2d(728, 728, kernel_size=(3, 3), stride=(1, 1), padding=(1, 1), groups=728, bias=False)\n",
              "        (pointwise): Conv2d(728, 728, kernel_size=(1, 1), stride=(1, 1), bias=False)\n",
              "      )\n",
              "      (8): BatchNorm2d(728, eps=1e-05, momentum=0.1, affine=True, track_running_stats=True)\n",
              "    )\n",
              "  )\n",
              "  (block6): Block(\n",
              "    (rep): Sequential(\n",
              "      (0): ReLU()\n",
              "      (1): SeparableConv2d(\n",
              "        (conv1): Conv2d(728, 728, kernel_size=(3, 3), stride=(1, 1), padding=(1, 1), groups=728, bias=False)\n",
              "        (pointwise): Conv2d(728, 728, kernel_size=(1, 1), stride=(1, 1), bias=False)\n",
              "      )\n",
              "      (2): BatchNorm2d(728, eps=1e-05, momentum=0.1, affine=True, track_running_stats=True)\n",
              "      (3): ReLU(inplace=True)\n",
              "      (4): SeparableConv2d(\n",
              "        (conv1): Conv2d(728, 728, kernel_size=(3, 3), stride=(1, 1), padding=(1, 1), groups=728, bias=False)\n",
              "        (pointwise): Conv2d(728, 728, kernel_size=(1, 1), stride=(1, 1), bias=False)\n",
              "      )\n",
              "      (5): BatchNorm2d(728, eps=1e-05, momentum=0.1, affine=True, track_running_stats=True)\n",
              "      (6): ReLU(inplace=True)\n",
              "      (7): SeparableConv2d(\n",
              "        (conv1): Conv2d(728, 728, kernel_size=(3, 3), stride=(1, 1), padding=(1, 1), groups=728, bias=False)\n",
              "        (pointwise): Conv2d(728, 728, kernel_size=(1, 1), stride=(1, 1), bias=False)\n",
              "      )\n",
              "      (8): BatchNorm2d(728, eps=1e-05, momentum=0.1, affine=True, track_running_stats=True)\n",
              "    )\n",
              "  )\n",
              "  (block7): Block(\n",
              "    (rep): Sequential(\n",
              "      (0): ReLU()\n",
              "      (1): SeparableConv2d(\n",
              "        (conv1): Conv2d(728, 728, kernel_size=(3, 3), stride=(1, 1), padding=(1, 1), groups=728, bias=False)\n",
              "        (pointwise): Conv2d(728, 728, kernel_size=(1, 1), stride=(1, 1), bias=False)\n",
              "      )\n",
              "      (2): BatchNorm2d(728, eps=1e-05, momentum=0.1, affine=True, track_running_stats=True)\n",
              "      (3): ReLU(inplace=True)\n",
              "      (4): SeparableConv2d(\n",
              "        (conv1): Conv2d(728, 728, kernel_size=(3, 3), stride=(1, 1), padding=(1, 1), groups=728, bias=False)\n",
              "        (pointwise): Conv2d(728, 728, kernel_size=(1, 1), stride=(1, 1), bias=False)\n",
              "      )\n",
              "      (5): BatchNorm2d(728, eps=1e-05, momentum=0.1, affine=True, track_running_stats=True)\n",
              "      (6): ReLU(inplace=True)\n",
              "      (7): SeparableConv2d(\n",
              "        (conv1): Conv2d(728, 728, kernel_size=(3, 3), stride=(1, 1), padding=(1, 1), groups=728, bias=False)\n",
              "        (pointwise): Conv2d(728, 728, kernel_size=(1, 1), stride=(1, 1), bias=False)\n",
              "      )\n",
              "      (8): BatchNorm2d(728, eps=1e-05, momentum=0.1, affine=True, track_running_stats=True)\n",
              "    )\n",
              "  )\n",
              "  (block8): Block(\n",
              "    (rep): Sequential(\n",
              "      (0): ReLU()\n",
              "      (1): SeparableConv2d(\n",
              "        (conv1): Conv2d(728, 728, kernel_size=(3, 3), stride=(1, 1), padding=(1, 1), groups=728, bias=False)\n",
              "        (pointwise): Conv2d(728, 728, kernel_size=(1, 1), stride=(1, 1), bias=False)\n",
              "      )\n",
              "      (2): BatchNorm2d(728, eps=1e-05, momentum=0.1, affine=True, track_running_stats=True)\n",
              "      (3): ReLU(inplace=True)\n",
              "      (4): SeparableConv2d(\n",
              "        (conv1): Conv2d(728, 728, kernel_size=(3, 3), stride=(1, 1), padding=(1, 1), groups=728, bias=False)\n",
              "        (pointwise): Conv2d(728, 728, kernel_size=(1, 1), stride=(1, 1), bias=False)\n",
              "      )\n",
              "      (5): BatchNorm2d(728, eps=1e-05, momentum=0.1, affine=True, track_running_stats=True)\n",
              "      (6): ReLU(inplace=True)\n",
              "      (7): SeparableConv2d(\n",
              "        (conv1): Conv2d(728, 728, kernel_size=(3, 3), stride=(1, 1), padding=(1, 1), groups=728, bias=False)\n",
              "        (pointwise): Conv2d(728, 728, kernel_size=(1, 1), stride=(1, 1), bias=False)\n",
              "      )\n",
              "      (8): BatchNorm2d(728, eps=1e-05, momentum=0.1, affine=True, track_running_stats=True)\n",
              "    )\n",
              "  )\n",
              "  (block9): Block(\n",
              "    (rep): Sequential(\n",
              "      (0): ReLU()\n",
              "      (1): SeparableConv2d(\n",
              "        (conv1): Conv2d(728, 728, kernel_size=(3, 3), stride=(1, 1), padding=(1, 1), groups=728, bias=False)\n",
              "        (pointwise): Conv2d(728, 728, kernel_size=(1, 1), stride=(1, 1), bias=False)\n",
              "      )\n",
              "      (2): BatchNorm2d(728, eps=1e-05, momentum=0.1, affine=True, track_running_stats=True)\n",
              "      (3): ReLU(inplace=True)\n",
              "      (4): SeparableConv2d(\n",
              "        (conv1): Conv2d(728, 728, kernel_size=(3, 3), stride=(1, 1), padding=(1, 1), groups=728, bias=False)\n",
              "        (pointwise): Conv2d(728, 728, kernel_size=(1, 1), stride=(1, 1), bias=False)\n",
              "      )\n",
              "      (5): BatchNorm2d(728, eps=1e-05, momentum=0.1, affine=True, track_running_stats=True)\n",
              "      (6): ReLU(inplace=True)\n",
              "      (7): SeparableConv2d(\n",
              "        (conv1): Conv2d(728, 728, kernel_size=(3, 3), stride=(1, 1), padding=(1, 1), groups=728, bias=False)\n",
              "        (pointwise): Conv2d(728, 728, kernel_size=(1, 1), stride=(1, 1), bias=False)\n",
              "      )\n",
              "      (8): BatchNorm2d(728, eps=1e-05, momentum=0.1, affine=True, track_running_stats=True)\n",
              "    )\n",
              "  )\n",
              "  (block10): Block(\n",
              "    (rep): Sequential(\n",
              "      (0): ReLU()\n",
              "      (1): SeparableConv2d(\n",
              "        (conv1): Conv2d(728, 728, kernel_size=(3, 3), stride=(1, 1), padding=(1, 1), groups=728, bias=False)\n",
              "        (pointwise): Conv2d(728, 728, kernel_size=(1, 1), stride=(1, 1), bias=False)\n",
              "      )\n",
              "      (2): BatchNorm2d(728, eps=1e-05, momentum=0.1, affine=True, track_running_stats=True)\n",
              "      (3): ReLU(inplace=True)\n",
              "      (4): SeparableConv2d(\n",
              "        (conv1): Conv2d(728, 728, kernel_size=(3, 3), stride=(1, 1), padding=(1, 1), groups=728, bias=False)\n",
              "        (pointwise): Conv2d(728, 728, kernel_size=(1, 1), stride=(1, 1), bias=False)\n",
              "      )\n",
              "      (5): BatchNorm2d(728, eps=1e-05, momentum=0.1, affine=True, track_running_stats=True)\n",
              "      (6): ReLU(inplace=True)\n",
              "      (7): SeparableConv2d(\n",
              "        (conv1): Conv2d(728, 728, kernel_size=(3, 3), stride=(1, 1), padding=(1, 1), groups=728, bias=False)\n",
              "        (pointwise): Conv2d(728, 728, kernel_size=(1, 1), stride=(1, 1), bias=False)\n",
              "      )\n",
              "      (8): BatchNorm2d(728, eps=1e-05, momentum=0.1, affine=True, track_running_stats=True)\n",
              "    )\n",
              "  )\n",
              "  (block11): Block(\n",
              "    (rep): Sequential(\n",
              "      (0): ReLU()\n",
              "      (1): SeparableConv2d(\n",
              "        (conv1): Conv2d(728, 728, kernel_size=(3, 3), stride=(1, 1), padding=(1, 1), groups=728, bias=False)\n",
              "        (pointwise): Conv2d(728, 728, kernel_size=(1, 1), stride=(1, 1), bias=False)\n",
              "      )\n",
              "      (2): BatchNorm2d(728, eps=1e-05, momentum=0.1, affine=True, track_running_stats=True)\n",
              "      (3): ReLU(inplace=True)\n",
              "      (4): SeparableConv2d(\n",
              "        (conv1): Conv2d(728, 728, kernel_size=(3, 3), stride=(1, 1), padding=(1, 1), groups=728, bias=False)\n",
              "        (pointwise): Conv2d(728, 728, kernel_size=(1, 1), stride=(1, 1), bias=False)\n",
              "      )\n",
              "      (5): BatchNorm2d(728, eps=1e-05, momentum=0.1, affine=True, track_running_stats=True)\n",
              "      (6): ReLU(inplace=True)\n",
              "      (7): SeparableConv2d(\n",
              "        (conv1): Conv2d(728, 728, kernel_size=(3, 3), stride=(1, 1), padding=(1, 1), groups=728, bias=False)\n",
              "        (pointwise): Conv2d(728, 728, kernel_size=(1, 1), stride=(1, 1), bias=False)\n",
              "      )\n",
              "      (8): BatchNorm2d(728, eps=1e-05, momentum=0.1, affine=True, track_running_stats=True)\n",
              "    )\n",
              "  )\n",
              "  (block12): Block(\n",
              "    (skip): Conv2d(728, 1024, kernel_size=(1, 1), stride=(2, 2), bias=False)\n",
              "    (skipbn): BatchNorm2d(1024, eps=1e-05, momentum=0.1, affine=True, track_running_stats=True)\n",
              "    (rep): Sequential(\n",
              "      (0): ReLU()\n",
              "      (1): SeparableConv2d(\n",
              "        (conv1): Conv2d(728, 728, kernel_size=(3, 3), stride=(1, 1), padding=(1, 1), groups=728, bias=False)\n",
              "        (pointwise): Conv2d(728, 728, kernel_size=(1, 1), stride=(1, 1), bias=False)\n",
              "      )\n",
              "      (2): BatchNorm2d(728, eps=1e-05, momentum=0.1, affine=True, track_running_stats=True)\n",
              "      (3): ReLU(inplace=True)\n",
              "      (4): SeparableConv2d(\n",
              "        (conv1): Conv2d(728, 728, kernel_size=(3, 3), stride=(1, 1), padding=(1, 1), groups=728, bias=False)\n",
              "        (pointwise): Conv2d(728, 1024, kernel_size=(1, 1), stride=(1, 1), bias=False)\n",
              "      )\n",
              "      (5): BatchNorm2d(1024, eps=1e-05, momentum=0.1, affine=True, track_running_stats=True)\n",
              "      (6): MaxPool2d(kernel_size=3, stride=2, padding=1, dilation=1, ceil_mode=False)\n",
              "    )\n",
              "  )\n",
              "  (conv3): SeparableConv2d(\n",
              "    (conv1): Conv2d(1024, 1024, kernel_size=(3, 3), stride=(1, 1), padding=(1, 1), groups=1024, bias=False)\n",
              "    (pointwise): Conv2d(1024, 1536, kernel_size=(1, 1), stride=(1, 1), bias=False)\n",
              "  )\n",
              "  (bn3): BatchNorm2d(1536, eps=1e-05, momentum=0.1, affine=True, track_running_stats=True)\n",
              "  (act3): ReLU(inplace=True)\n",
              "  (conv4): SeparableConv2d(\n",
              "    (conv1): Conv2d(1536, 1536, kernel_size=(3, 3), stride=(1, 1), padding=(1, 1), groups=1536, bias=False)\n",
              "    (pointwise): Conv2d(1536, 2048, kernel_size=(1, 1), stride=(1, 1), bias=False)\n",
              "  )\n",
              "  (bn4): BatchNorm2d(2048, eps=1e-05, momentum=0.1, affine=True, track_running_stats=True)\n",
              "  (act4): ReLU(inplace=True)\n",
              "  (global_pool): SelectAdaptivePool2d(pool_type=avg, flatten=Flatten(start_dim=1, end_dim=-1))\n",
              "  (fc): Linear(in_features=2048, out_features=2, bias=True)\n",
              ")"
            ]
          },
          "metadata": {},
          "execution_count": 51
        }
      ]
    },
    {
      "cell_type": "code",
      "source": [
        "label_mapping = {'Closed': 0, 'Open': 1}\n",
        "\n",
        "# Extract class labels from the keys of label_mapping\n",
        "classes = list(label_mapping.keys())\n",
        "\n",
        "print(classes)  # Just to verify the classes"
      ],
      "metadata": {
        "colab": {
          "base_uri": "https://localhost:8080/"
        },
        "id": "YRmqM9rhhjj4",
        "outputId": "bf15d7fb-f0f2-47e3-8b7d-377488a6b5b5"
      },
      "execution_count": 52,
      "outputs": [
        {
          "output_type": "stream",
          "name": "stdout",
          "text": [
            "['Closed', 'Open']\n"
          ]
        }
      ]
    },
    {
      "cell_type": "code",
      "source": [
        "calculate_test_metrics(model, test_loader, device, classes)"
      ],
      "metadata": {
        "colab": {
          "base_uri": "https://localhost:8080/",
          "height": 1000
        },
        "id": "c6FRF31Dhsb2",
        "outputId": "20a37d45-d8dd-471a-92a1-2ed62c782257"
      },
      "execution_count": 53,
      "outputs": [
        {
          "output_type": "stream",
          "name": "stdout",
          "text": [
            "Classification Report:\n",
            "              precision    recall  f1-score   support\n",
            "\n",
            "      Closed       1.00      1.00      1.00      8346\n",
            "        Open       1.00      1.00      1.00      8634\n",
            "\n",
            "    accuracy                           1.00     16980\n",
            "   macro avg       1.00      1.00      1.00     16980\n",
            "weighted avg       1.00      1.00      1.00     16980\n",
            "\n",
            "Confusion Matrix:\n"
          ]
        },
        {
          "output_type": "display_data",
          "data": {
            "text/plain": [
              "<Figure size 1000x700 with 2 Axes>"
            ],
            "image/png": "[encoded data removed]"
          },
          "metadata": {}
        },
        {
          "output_type": "stream",
          "name": "stdout",
          "text": [
            "ROC Curve:\n"
          ]
        },
        {
          "output_type": "display_data",
          "data": {
            "text/plain": [
              "<Figure size 640x480 with 1 Axes>"
            ],
            "image/png": "[encoded data removed]"
          },
          "metadata": {}
        }
      ]
    },
    {
      "cell_type": "code",
      "source": [
        "image_path = '/kaggle/input/mrl-eye-dataset/mrleyedataset/Close-Eyes/s0001_00004_0_0_0_0_0_01.png'\n",
        "image = Image.open(image_path).convert(\"RGB\")\n",
        "input_data = augmentations(image).unsqueeze(0).to(device)"
      ],
      "metadata": {
        "id": "qQ9dfGIB6m9o"
      },
      "execution_count": null,
      "outputs": []
    },
    {
      "cell_type": "code",
      "source": [
        "with torch.no_grad():\n",
        "    output = model(input_data)\n",
        "\n",
        "probabilities = torch.softmax(output, dim=1)\n",
        "predicted_class = torch.argmax(probabilities, dim=1).item()"
      ],
      "metadata": {
        "id": "hewXCAY86n1d"
      },
      "execution_count": null,
      "outputs": []
    },
    {
      "cell_type": "code",
      "source": [
        "print(predicted_class)"
      ],
      "metadata": {
        "colab": {
          "base_uri": "https://localhost:8080/"
        },
        "id": "o_UdAJNO6qQT",
        "outputId": "f3cfe44f-81f5-4fea-a1e5-686304f51634"
      },
      "execution_count": null,
      "outputs": [
        {
          "output_type": "stream",
          "name": "stdout",
          "text": [
            "0\n"
          ]
        }
      ]
    },
    {
      "cell_type": "code",
      "source": [
        "plt.imshow(image, cmap='gray')\n",
        "plt.title(label)\n",
        "plt.show()"
      ],
      "metadata": {
        "colab": {
          "base_uri": "https://localhost:8080/",
          "height": 452
        },
        "id": "3gKCg9ui6skm",
        "outputId": "c4d2e962-f432-4160-e024-9d9e4c876964"
      },
      "execution_count": null,
      "outputs": [
        {
          "output_type": "display_data",
          "data": {
            "text/plain": [
              "<Figure size 640x480 with 1 Axes>"
            ],
            "image/png": "[encoded data removed]"
          },
          "metadata": {}
        }
      ]
    }
  ]
}